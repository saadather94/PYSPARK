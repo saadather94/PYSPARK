{
 "cells": [
  {
   "cell_type": "markdown",
   "id": "9b9dde85-d2b0-40ad-a14c-f91b1b7d8fba",
   "metadata": {
    "tags": []
   },
   "source": [
    "<img align=\"left\" width=\"75\" height=\"75\"  src=\"https://upload.wikimedia.org/wikipedia/en/e/e4/National_University_of_Computer_and_Emerging_Sciences_logo.png\"> \n",
    "\n",
    "<h1 align=\"center\" style=\"color:Brown;\"> BIG DATA ANALYTICS </h1> <h3 align=\"center\" style=\"color:DarkRed;\"> PySpark DataFrame Practice <h3>\n",
    "    \n",
    "---"
   ]
  },
  {
   "cell_type": "markdown",
   "id": "fa4aa482-9615-417b-b23f-9a02e4bedae0",
   "metadata": {},
   "source": [
    "### You are provided dataset “Movies.csv” that contains information about 1600 movies with properties such as year, length, main actor and actress, director and popularity. \n",
    "### Load the given dataset into Spark Data-Frames and answer the following queries using Data Frame functions only. You are not allowed to write the SparkSQL queries.\n",
    "\n",
    "---\n",
    "<br>\n"
   ]
  },
  {
   "cell_type": "code",
   "execution_count": 1,
   "id": "0f10a42a-25d7-488d-a5ee-cd0ee32f6f7d",
   "metadata": {},
   "outputs": [],
   "source": [
    "import findspark"
   ]
  },
  {
   "cell_type": "code",
   "execution_count": 2,
   "id": "5b730fb2-75e4-4301-95ff-640348ce44c3",
   "metadata": {},
   "outputs": [],
   "source": [
    "findspark.init()"
   ]
  },
  {
   "cell_type": "code",
   "execution_count": 3,
   "id": "f75927e7-cf02-4165-8dda-1e6debac8368",
   "metadata": {},
   "outputs": [],
   "source": [
    "import pyspark"
   ]
  },
  {
   "cell_type": "code",
   "execution_count": 4,
   "id": "ca0447ad-6767-45e3-9a01-c7a63ceedd07",
   "metadata": {},
   "outputs": [],
   "source": [
    "from pyspark.sql import SparkSession "
   ]
  },
  {
   "cell_type": "code",
   "execution_count": 88,
   "id": "08eb3707-7fce-457c-8b2d-5ba1d1e325fa",
   "metadata": {},
   "outputs": [],
   "source": [
    "spark = ss.builder.appName('PYSPARK-DATAFRAME').getOrCreate()"
   ]
  },
  {
   "cell_type": "code",
   "execution_count": 89,
   "id": "a9da5d2f-8ab2-40ed-b2de-4b53911ed205",
   "metadata": {},
   "outputs": [],
   "source": [
    "df = spark.read.csv('Movies.csv', header=True, inferSchema=True)"
   ]
  },
  {
   "cell_type": "code",
   "execution_count": 90,
   "id": "7bdb63f9-0f99-4d4c-85b6-0c00f54e3763",
   "metadata": {},
   "outputs": [
    {
     "name": "stdout",
     "output_type": "stream",
     "text": [
      "root\n",
      " |-- Year: integer (nullable = true)\n",
      " |-- Length: integer (nullable = true)\n",
      " |-- Title: string (nullable = true)\n",
      " |-- Genre: string (nullable = true)\n",
      " |-- Actor: string (nullable = true)\n",
      " |-- Actress: string (nullable = true)\n",
      " |-- Director: string (nullable = true)\n",
      " |-- Popularity: integer (nullable = true)\n",
      " |-- Awards: string (nullable = true)\n",
      " |-- Image: string (nullable = true)\n",
      "\n"
     ]
    }
   ],
   "source": [
    "df.printSchema()"
   ]
  },
  {
   "cell_type": "code",
   "execution_count": 107,
   "id": "2cccebc8-293c-43f0-a5e2-e49bf8c33a78",
   "metadata": {},
   "outputs": [
    {
     "name": "stdout",
     "output_type": "stream",
     "text": [
      "+----+------+--------------------+------+-----------------+-------------+---------------+----------+------+----------------+\n",
      "|Year|Length|               Title| Genre|            Actor|      Actress|       Director|Popularity|Awards|           Image|\n",
      "+----+------+--------------------+------+-----------------+-------------+---------------+----------+------+----------------+\n",
      "|1990|   111|Tie Me Up! Tie Me...|Comedy|  BanderasAntonio|AbrilVictoria| AlmodóvarPedro|        68|    No|NicholasCage.png|\n",
      "|1991|   113|          High Heels|Comedy|       BoséMiguel|AbrilVictoria| AlmodóvarPedro|        68|    No|NicholasCage.png|\n",
      "|1983|   104|        Dead ZoneThe|Horror|WalkenChristopher|  AdamsBrooke|CronenbergDavid|        79|    No|NicholasCage.png|\n",
      "|1979|   122|                Cuba|Action|      ConnerySean|  AdamsBrooke|  LesterRichard|         6|    No| seanConnery.png|\n",
      "|1978|    94|      Days of Heaven| Drama|      GereRichard|  AdamsBrooke| MalickTerrence|        14|    No|NicholasCage.png|\n",
      "+----+------+--------------------+------+-----------------+-------------+---------------+----------+------+----------------+\n",
      "only showing top 5 rows\n",
      "\n"
     ]
    }
   ],
   "source": [
    "df.show(5)"
   ]
  },
  {
   "cell_type": "markdown",
   "id": "a2e82342-68a9-4b26-aebc-a518dea6a430",
   "metadata": {},
   "source": [
    "#### 1. Find the title, year, and director of action films that won an award.\n"
   ]
  },
  {
   "cell_type": "code",
   "execution_count": 109,
   "id": "7c3bfe92-671c-48e3-ab93-8c8fffb76a93",
   "metadata": {},
   "outputs": [
    {
     "name": "stdout",
     "output_type": "stream",
     "text": [
      "+--------------------+----+-------------+\n",
      "|               Title|Year|     Director|\n",
      "+--------------------+----+-------------+\n",
      "| Fanny and Alexander|1982|BergmanIngmar|\n",
      "|     A Man & a Woman|1966|LelouchClaude|\n",
      "|Un Hombre y una M...|1966|LelouchClaude|\n",
      "|   Official StoryThe|1985|   PuenzoLuiz|\n",
      "|   Wild Strawberries|1957|BergmanIngmar|\n",
      "+--------------------+----+-------------+\n",
      "only showing top 5 rows\n",
      "\n"
     ]
    }
   ],
   "source": [
    "df.filter(\"Awards = 'Yes'\").select(['Title','Year','Director']).show(5)"
   ]
  },
  {
   "cell_type": "markdown",
   "id": "ce007b62-e2c0-4416-a010-d1da0dad88cf",
   "metadata": {},
   "source": [
    "#### 2. For each award-winning actor, find the movies he acted it. Print the names of the movies and the director of the movie."
   ]
  },
  {
   "cell_type": "code",
   "execution_count": 108,
   "id": "8e20fb3e-0e22-483f-aba9-02d016ab31cf",
   "metadata": {},
   "outputs": [
    {
     "name": "stdout",
     "output_type": "stream",
     "text": [
      "+--------------------+--------------------+-------------+\n",
      "|               Actor|               Title|     Director|\n",
      "+--------------------+--------------------+-------------+\n",
      "|       AhlstedtBörje| Fanny and Alexander|BergmanIngmar|\n",
      "|TrintignantJean-L...|     A Man & a Woman|LelouchClaude|\n",
      "|TrintignantJean-L...|Un Hombre y una M...|LelouchClaude|\n",
      "|       AlterioHector|   Official StoryThe|   PuenzoLuiz|\n",
      "|      SjöströmVictor|   Wild Strawberries|BergmanIngmar|\n",
      "+--------------------+--------------------+-------------+\n",
      "only showing top 5 rows\n",
      "\n"
     ]
    }
   ],
   "source": [
    "df.filter(\"Awards = 'Yes'\").select(['Actor','Title','Director']).show(5)"
   ]
  },
  {
   "cell_type": "markdown",
   "id": "1040071a-abd3-4454-852c-80dc843a304e",
   "metadata": {},
   "source": [
    "#### 3. Find the top 10 most popular movies that did not win an award"
   ]
  },
  {
   "cell_type": "code",
   "execution_count": 146,
   "id": "21353e85-c179-4773-856a-9ff70ff61ddf",
   "metadata": {},
   "outputs": [
    {
     "name": "stdout",
     "output_type": "stream",
     "text": [
      "+-------------------+----------+------+\n",
      "|              Title|Popularity|Awards|\n",
      "+-------------------+----------+------+\n",
      "|        Let It Ride|        88|    No|\n",
      "|      Great RaceThe|        88|    No|\n",
      "|     New Year's Day|        88|    No|\n",
      "|       Final Notice|        88|    No|\n",
      "|  Fellini Satyricon|        88|    No|\n",
      "|Guilty by Suspicion|        88|    No|\n",
      "|    Time MachineThe|        88|    No|\n",
      "|          Raw Nerve|        88|    No|\n",
      "|Long Voyage HomeThe|        88|    No|\n",
      "|          Class Act|        88|    No|\n",
      "+-------------------+----------+------+\n",
      "only showing top 10 rows\n",
      "\n"
     ]
    }
   ],
   "source": [
    "df.select(\"Title\",\"Popularity\",\"Awards\").filter(df[\"Awards\"]=='No').sort(df[\"Popularity\"].desc()).show(10)"
   ]
  },
  {
   "cell_type": "markdown",
   "id": "58d846e8-b7dd-4750-90e6-cc1653800f24",
   "metadata": {},
   "source": [
    "#### 4. Find the 10 least popular movies that were released before 1980."
   ]
  },
  {
   "cell_type": "code",
   "execution_count": 145,
   "id": "bebd12f5-ca96-4f20-b997-3f10cc2cbde5",
   "metadata": {},
   "outputs": [
    {
     "name": "stdout",
     "output_type": "stream",
     "text": [
      "+--------------------+----------+----+\n",
      "|               Title|Popularity|Year|\n",
      "+--------------------+----------+----+\n",
      "|             Airport|         0|1970|\n",
      "|       Anna Christie|         0|1930|\n",
      "|             Shalako|         0|1968|\n",
      "|   Tales of Tomorrow|         0|1953|\n",
      "|  Shout at the Devil|         0|1976|\n",
      "|           Holocaust|         1|1978|\n",
      "|            Stavisky|         1|1974|\n",
      "|   Anderson TapesThe|         1|1971|\n",
      "|          Indiscreet|         1|1958|\n",
      "|Law of the Golden...|         1|1949|\n",
      "+--------------------+----------+----+\n",
      "only showing top 10 rows\n",
      "\n"
     ]
    }
   ],
   "source": [
    "df.select(\"Title\",\"Popularity\",\"Year\").filter((df[\"Year\"]<1980) & \n",
    "                                      (df[\"Popularity\"].isNotNull()) ).sort(df[\"Popularity\"].asc()).show(10)"
   ]
  },
  {
   "cell_type": "markdown",
   "id": "3549b520-6fcb-45fe-9ad8-6a77af4c20f0",
   "metadata": {},
   "source": [
    "#### 5. Find the average length of the movies of each genre."
   ]
  },
  {
   "cell_type": "code",
   "execution_count": 144,
   "id": "2553c6fc-03f6-4764-a5a7-54ee4c4eb602",
   "metadata": {},
   "outputs": [
    {
     "name": "stdout",
     "output_type": "stream",
     "text": [
      "+---------------+------------------+\n",
      "|          Genre|       avg(Length)|\n",
      "+---------------+------------------+\n",
      "|          Crime|              66.0|\n",
      "|        Romance|             127.0|\n",
      "|      Adventure|             119.0|\n",
      "|           null|             120.5|\n",
      "|          Drama|113.30455259026688|\n",
      "|            War|         116.90625|\n",
      "|        Fantasy|             102.0|\n",
      "|        Mystery|103.00990099009901|\n",
      "|          Music|100.48780487804878|\n",
      "|Science Fiction|106.47368421052632|\n",
      "|         Horror| 93.92727272727272|\n",
      "|          Short|              40.0|\n",
      "|        Western|  93.0091743119266|\n",
      "|         Comedy| 96.50540540540541|\n",
      "|         Action|             104.5|\n",
      "|       Westerns|             124.8|\n",
      "+---------------+------------------+\n",
      "\n"
     ]
    }
   ],
   "source": [
    "df.groupBy(\"Genre\").avg(\"Length\").show()"
   ]
  },
  {
   "cell_type": "markdown",
   "id": "27f14e52-60d8-4f73-82bc-de5dda766098",
   "metadata": {
    "jp-MarkdownHeadingCollapsed": true,
    "tags": []
   },
   "source": [
    "#### 6. Find the actor and actress pair who has acted in more than three Comedies together"
   ]
  },
  {
   "cell_type": "code",
   "execution_count": 305,
   "id": "17a3530c-3b1f-4638-aa02-e4adf5c9fd74",
   "metadata": {},
   "outputs": [],
   "source": [
    "df2 = df.filter( (df[\"Actor\"].isNotNull()) \n",
    "          & (df[\"Actress\"].isNotNull())  ).where(df[\"Genre\"]==\n",
    "                                                 \"Comedy\").groupBy(\"Actor\",\n",
    "                                                                   \"Actress\").count()\n"
   ]
  },
  {
   "cell_type": "code",
   "execution_count": 315,
   "id": "0758c941-9eae-48fd-8097-e97e4eb5dc12",
   "metadata": {},
   "outputs": [
    {
     "name": "stdout",
     "output_type": "stream",
     "text": [
      "+------------+----------------+------------------+\n",
      "|       Actor|         Actress|Comedy Movie count|\n",
      "+------------+----------------+------------------+\n",
      "|TracySpencer|HepburnKatharine|                 6|\n",
      "|  AllenWoody|     KeatonDiane|                 5|\n",
      "+------------+----------------+------------------+\n",
      "\n"
     ]
    }
   ],
   "source": [
    "df2.withColumnRenamed(\"count\", \"Comedy Movie count\").where(\"count >=3\").show()"
   ]
  },
  {
   "cell_type": "markdown",
   "id": "37287942-6021-4983-a155-0c7e139fd682",
   "metadata": {},
   "source": [
    "#### 7. Find the names of actors who acted in movies of both ‘Comedy’ and ‘Drama’ Genre."
   ]
  },
  {
   "cell_type": "code",
   "execution_count": 322,
   "id": "68033e98-f87c-4240-871c-8b748fe6f5f6",
   "metadata": {},
   "outputs": [
    {
     "name": "stdout",
     "output_type": "stream",
     "text": [
      "+-----+\n",
      "|Actor|\n",
      "+-----+\n",
      "+-----+\n",
      "\n"
     ]
    }
   ],
   "source": [
    "df.select(df[\"Actor\"]).filter((df[\"Genre\"]==\"Comedy\")  & (df[\"Genre\"]==\"Drama\")).show(10)"
   ]
  },
  {
   "cell_type": "markdown",
   "id": "236494a1-9720-498a-8ed1-0e4f39542cfd",
   "metadata": {},
   "source": [
    "#### 8. Find the names of actors who acted in movies of both ‘Comedy’ or ‘Drama’ Genre."
   ]
  },
  {
   "cell_type": "code",
   "execution_count": 321,
   "id": "859fdc8f-f4bd-4461-b247-5ec6a733622a",
   "metadata": {},
   "outputs": [
    {
     "name": "stdout",
     "output_type": "stream",
     "text": [
      "+--------------------+\n",
      "|               Actor|\n",
      "+--------------------+\n",
      "|     BanderasAntonio|\n",
      "|          BoséMiguel|\n",
      "|         GereRichard|\n",
      "|     BergenRobert D.|\n",
      "|  LambertChristopher|\n",
      "|     DepardieuGérard|\n",
      "|       AhlstedtBörje|\n",
      "|         TognazziUgo|\n",
      "|TrintignantJean-L...|\n",
      "|TrintignantJean-L...|\n",
      "+--------------------+\n",
      "only showing top 10 rows\n",
      "\n"
     ]
    }
   ],
   "source": [
    "df.select(df[\"Actor\"]).filter((df[\"Genre\"]==\"Comedy\")  | (df[\"Genre\"]==\"Drama\")).show(10)"
   ]
  },
  {
   "cell_type": "markdown",
   "id": "4eef229c-be7d-4538-aac5-ea10a97deea7",
   "metadata": {},
   "source": [
    "#### 9. Find the names of actors who did not act in any ‘Comedy’."
   ]
  },
  {
   "cell_type": "code",
   "execution_count": 323,
   "id": "3a966818-c3fa-43e8-b6fa-c8fb64029c18",
   "metadata": {},
   "outputs": [
    {
     "name": "stdout",
     "output_type": "stream",
     "text": [
      "+------------------+\n",
      "|             Actor|\n",
      "+------------------+\n",
      "| WalkenChristopher|\n",
      "|       ConnerySean|\n",
      "|       GereRichard|\n",
      "|        MooreRoger|\n",
      "|      ConnorsChuck|\n",
      "|   BergenRobert D.|\n",
      "|LambertChristopher|\n",
      "|   DepardieuGérard|\n",
      "|     AhlstedtBörje|\n",
      "|       TognazziUgo|\n",
      "+------------------+\n",
      "only showing top 10 rows\n",
      "\n"
     ]
    }
   ],
   "source": [
    "df.select(\"Actor\").filter(~(df[\"Genre\"]==\"Comedy\")).show(10)"
   ]
  },
  {
   "cell_type": "code",
   "execution_count": 326,
   "id": "1c71c082-8a8b-41ba-9bdc-3cfd98ead53b",
   "metadata": {},
   "outputs": [
    {
     "name": "stdout",
     "output_type": "stream",
     "text": [
      "+-------+\n",
      "|  Genre|\n",
      "+-------+\n",
      "| Horror|\n",
      "|Mystery|\n",
      "+-------+\n",
      "\n"
     ]
    }
   ],
   "source": [
    "### Rechecking our result...\n",
    "\n",
    "df.select(\"Genre\").filter(df[\"Actor\"]==\"WalkenChristopher\").show(10)"
   ]
  },
  {
   "cell_type": "markdown",
   "id": "63a15836-19eb-49b7-b909-e609555064aa",
   "metadata": {},
   "source": [
    "#### 10. Find each actor, find the mean, max, and min ranking of his movies."
   ]
  },
  {
   "cell_type": "code",
   "execution_count": 334,
   "id": "8ac53e0c-26ac-4e7c-a555-4e4b4fc0db14",
   "metadata": {},
   "outputs": [
    {
     "name": "stdout",
     "output_type": "stream",
     "text": [
      "+--------------+------------------+-----------------+-----------------+\n",
      "|         Actor|Mean Movie Ranking|Max Movie Ranking|Min Movie Ranking|\n",
      "+--------------+------------------+-----------------+-----------------+\n",
      "|    BoséMiguel|              68.0|               68|               68|\n",
      "|  CottenJoseph|              58.0|               74|               32|\n",
      "|      BrownTom|              77.0|               77|               77|\n",
      "|    DillonMatt|               7.5|               11|                4|\n",
      "| KeatonMichael|              59.0|               59|               59|\n",
      "|ShimuraTakashi|              36.0|               36|               36|\n",
      "|  LintDerek De|              71.0|               71|               71|\n",
      "|   WillisBruce|              48.0|               76|                7|\n",
      "+--------------+------------------+-----------------+-----------------+\n",
      "only showing top 8 rows\n",
      "\n"
     ]
    }
   ],
   "source": [
    "import pyspark.sql.functions as func\n",
    "df.groupBy(\"Actor\").agg(func.mean(\"Popularity\").alias(\"Mean Movie Ranking\"),\n",
    "                        func.max(\"Popularity\").alias(\"Max Movie Ranking\"), \n",
    "                        func.min(\"Popularity\").alias(\"Min Movie Ranking\")).show(8)"
   ]
  },
  {
   "cell_type": "markdown",
   "id": "5cb6a360-245c-476f-ba9d-e2eb6590f970",
   "metadata": {},
   "source": [
    "#### 11. List the number of movies released in each decade starting from the 1960’s."
   ]
  },
  {
   "cell_type": "code",
   "execution_count": 373,
   "id": "034a0785-9c9e-4ee0-849f-aa6989b6c0eb",
   "metadata": {},
   "outputs": [],
   "source": [
    "df2 = df.select(\"Year\").groupBy(\"Year\").count().where(\"Year>=1960\").sort(df[\"Year\"].asc())"
   ]
  },
  {
   "cell_type": "code",
   "execution_count": 393,
   "id": "46d09698-04ee-482d-afb0-c8ade27b0677",
   "metadata": {},
   "outputs": [
    {
     "name": "stdout",
     "output_type": "stream",
     "text": [
      "+---------+-------------------+\n",
      "|  Decades|Movie Release Count|\n",
      "+---------+-------------------+\n",
      "|1960~1969|                 10|\n",
      "|1970~1979|                 10|\n",
      "|1980~1989|                 10|\n",
      "|1990~2000|                  6|\n",
      "+---------+-------------------+\n",
      "\n"
     ]
    }
   ],
   "source": [
    "\n",
    "schema = [  {\"Decades\":'1960~1969',\"Movie Release Count\":df2.filter((df2[\"Year\"]>='1960') &\n",
    "                                                                    (df2[\"Year\"]<'1970') ).agg(func.sum('count')).first()},\n",
    "\n",
    "            {\"Decades\":'1970~1979',\"Movie Release Count\":df2.filter((df2[\"Year\"]>='1970') \n",
    "                                                                    &(df2[\"Year\"]<'1980') ).agg(func.sum('count')).first()},\n",
    "            \n",
    "            {\"Decades\":'1980~1989',\"Movie Release Count\":df2.filter((df2[\"Year\"]>='1980') \n",
    "                                                                    &(df2[\"Year\"]<'1990') ).agg(func.sum('count')).first()},\n",
    "            \n",
    "            {\"Decades\":'1990~2000',\"Movie Release Count\":df2.filter((df2[\"Year\"]>='1990') \n",
    "                                                                    &(df2[\"Year\"]<'2000') ).agg(func.sum('count')).first()},\n",
    "         ]\n",
    "         \n",
    "df3 = spark.createDataFrame(schema)\n",
    "df3.show()"
   ]
  },
  {
   "cell_type": "markdown",
   "id": "9a9a18e5-b129-43dd-a61b-7f817c1b8fb5",
   "metadata": {},
   "source": [
    "#### 12. Find the number of movies released each year"
   ]
  },
  {
   "cell_type": "code",
   "execution_count": 396,
   "id": "7b4079ed-bda6-440e-87ff-92b68920f4b5",
   "metadata": {},
   "outputs": [
    {
     "name": "stdout",
     "output_type": "stream",
     "text": [
      "+----+-----+\n",
      "|Year|count|\n",
      "+----+-----+\n",
      "|1920|    1|\n",
      "|1923|    1|\n",
      "|1924|    3|\n",
      "|1925|    1|\n",
      "|1926|    4|\n",
      "|1927|    3|\n",
      "|1928|    5|\n",
      "|1929|    5|\n",
      "|1930|    3|\n",
      "|1931|    9|\n",
      "+----+-----+\n",
      "only showing top 10 rows\n",
      "\n"
     ]
    }
   ],
   "source": [
    "df.select(\"Year\").groupBy(\"Year\").count().sort(df[\"Year\"].asc()).show(10)"
   ]
  },
  {
   "cell_type": "markdown",
   "id": "d32f3222-dc93-4281-b7c1-4142d957a8ba",
   "metadata": {},
   "source": [
    "#### 13. Find the number of movies released in each year of each genre. Consider only the movies with a length greater than 100 minutes."
   ]
  },
  {
   "cell_type": "code",
   "execution_count": 406,
   "id": "1a97f7d2-8af2-4fec-a9fe-a17b1994570d",
   "metadata": {},
   "outputs": [
    {
     "name": "stdout",
     "output_type": "stream",
     "text": [
      "+----+---------------+-----+\n",
      "|Year|          Genre|count|\n",
      "+----+---------------+-----+\n",
      "|1920|          Drama|    1|\n",
      "|1924|          Drama|    2|\n",
      "|1925|          Drama|    1|\n",
      "|1926|         Action|    1|\n",
      "|1926|Science Fiction|    1|\n",
      "|1926|          Drama|    1|\n",
      "|1928|            War|    1|\n",
      "|1928|          Drama|    2|\n",
      "|1929|          Drama|    1|\n",
      "|1931|        Western|    2|\n",
      "+----+---------------+-----+\n",
      "only showing top 10 rows\n",
      "\n"
     ]
    }
   ],
   "source": [
    "df.select(\"Year\",\"Genre\").where(df[\"Length\"]>100).groupBy(\"Year\",\"Genre\").count().sort(df[\"Year\"].asc()).show(10)"
   ]
  },
  {
   "cell_type": "markdown",
   "id": "c092d66a-6a6a-4833-b193-907f8063928c",
   "metadata": {},
   "source": [
    "#### 14. Sort the movie’s release before 1990 by the title."
   ]
  },
  {
   "cell_type": "code",
   "execution_count": 412,
   "id": "7f1567ef-7474-4265-a046-fea793b5c037",
   "metadata": {},
   "outputs": [
    {
     "name": "stdout",
     "output_type": "stream",
     "text": [
      "+--------------------+----+\n",
      "|               Title|Year|\n",
      "+--------------------+----+\n",
      "|2001: A Space Ody...|1968|\n",
      "|             48 Hrs.|1982|\n",
      "|               8 1/2|1963|\n",
      "|A Big Hand for th...|1966|\n",
      "|  A Child Is Waiting|1962|\n",
      "|A Chorus LineThe ...|1985|\n",
      "|  A Clockwork Orange|1971|\n",
      "|A Coeur Joie(Head...|1967|\n",
      "|   A Cry in the Dark|1988|\n",
      "|  A Dry White Season|1989|\n",
      "|      A Fine Madness|1966|\n",
      "| A Fish Called Wanda|1988|\n",
      "|A Fistful of Dollars|1964|\n",
      "|     A Guy Named Joe|1943|\n",
      "|    A Lesson in Love|1954|\n",
      "|A Little Night Music|1977|\n",
      "|     A Man & a Woman|1966|\n",
      "|A Man & a Woman: ...|1986|\n",
      "|A Man for All Sea...|1966|\n",
      "|    A Matter of Time|1976|\n",
      "+--------------------+----+\n",
      "only showing top 20 rows\n",
      "\n"
     ]
    }
   ],
   "source": [
    "df.select(\"Title\", \"Year\").sort(df[\"Title\"]).where(\"Year<1990\").show(20)"
   ]
  },
  {
   "cell_type": "markdown",
   "id": "7c8ae6f7-6526-455e-baa8-9e23ec5b2533",
   "metadata": {},
   "source": [
    "#### 15. Find the movies with long titles. A movie title is considered long if it is greater than 50 alphabets."
   ]
  },
  {
   "cell_type": "code",
   "execution_count": 422,
   "id": "65cda110-b0da-4bef-bde4-437bf955b637",
   "metadata": {},
   "outputs": [
    {
     "name": "stdout",
     "output_type": "stream",
     "text": [
      "+--------------------+\n",
      "|               Title|\n",
      "+--------------------+\n",
      "|Fawlty TowersGour...|\n",
      "+--------------------+\n",
      "\n"
     ]
    }
   ],
   "source": [
    "from pyspark.sql.functions import length\n",
    "df.select(\"Title\").where(length(df[\"Title\"]) > 50).show()"
   ]
  },
  {
   "cell_type": "code",
   "execution_count": 423,
   "id": "b7d5fe7c-6aec-4c47-b5ab-b0ae733c305e",
   "metadata": {},
   "outputs": [
    {
     "data": {
      "text/plain": [
       "65"
      ]
     },
     "execution_count": 423,
     "metadata": {},
     "output_type": "execute_result"
    }
   ],
   "source": [
    "len(\"Fawlty TowersGourmet NightWaldorf Salad & The Kipper & the Corpse\")"
   ]
  },
  {
   "cell_type": "code",
   "execution_count": null,
   "id": "0c3a8e17-3978-4f3d-a9b3-35f28062d115",
   "metadata": {},
   "outputs": [],
   "source": []
  },
  {
   "cell_type": "code",
   "execution_count": null,
   "id": "e393e387-641d-44fa-8129-f391108da376",
   "metadata": {},
   "outputs": [],
   "source": []
  },
  {
   "cell_type": "code",
   "execution_count": null,
   "id": "4e7395c6-6068-4fb7-96e9-8d4828765f07",
   "metadata": {},
   "outputs": [],
   "source": []
  }
 ],
 "metadata": {
  "kernelspec": {
   "display_name": "Python 3 (ipykernel)",
   "language": "python",
   "name": "python3"
  },
  "language_info": {
   "codemirror_mode": {
    "name": "ipython",
    "version": 3
   },
   "file_extension": ".py",
   "mimetype": "text/x-python",
   "name": "python",
   "nbconvert_exporter": "python",
   "pygments_lexer": "ipython3",
   "version": "3.9.7"
  },
  "toc-autonumbering": false
 },
 "nbformat": 4,
 "nbformat_minor": 5
}
