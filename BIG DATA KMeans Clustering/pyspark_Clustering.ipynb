{
 "cells": [
  {
   "cell_type": "markdown",
   "id": "77e98b01-6ed0-4d1a-9de3-e13063bdd5b1",
   "metadata": {},
   "source": [
    "\n",
    "\n",
    "<img align=\"left\" width=\"75\" height=\"75\"  src=\"https://upload.wikimedia.org/wikipedia/en/e/e4/National_University_of_Computer_and_Emerging_Sciences_logo.png\"> \n",
    "\n",
    "<h1 align=\"center\" style=\"color:Brown;\"> BIG DATA ANALYTICS </h1> <h3 align=\"center\" style=\"color:DarkRed;\"> ASSIGNMENT 2 pySpark Clustering <h3><div align=\"right\" style=\"color:Purple;\">Name: <u>SAAD ATHER</u><br> Roll No. <u>21L-7289</u></div></h3></h3> \n",
    "\n",
    "---\n"
   ]
  },
  {
   "cell_type": "code",
   "execution_count": 1,
   "id": "bddf8ee4-9bdc-483d-b03e-a0a1f6dbd527",
   "metadata": {},
   "outputs": [],
   "source": [
    "import findspark\n",
    "findspark.init()\n",
    "import pyspark\n",
    "from pyspark.sql import SparkSession as ss\n",
    "spark = ss.builder.appName('session').getOrCreate()\n",
    "sc= spark.sparkContext"
   ]
  },
  {
   "cell_type": "markdown",
   "id": "ec4e9902-975a-429b-8a92-7f3c7b0bf27c",
   "metadata": {},
   "source": [
    "### Question 1: Explore and preprocess the “Leaves” data given\n"
   ]
  },
  {
   "cell_type": "code",
   "execution_count": 2,
   "id": "cff67794-9ee0-4cc4-9077-d7b9f081a235",
   "metadata": {},
   "outputs": [],
   "source": [
    "df = spark.read.csv('Leaves.csv',header=True,inferSchema=True)"
   ]
  },
  {
   "cell_type": "code",
   "execution_count": 3,
   "id": "c9a6250e-b5fd-4af6-980b-b4d117cf3263",
   "metadata": {},
   "outputs": [
    {
     "name": "stdout",
     "output_type": "stream",
     "text": [
      "root\n",
      " |-- ID: integer (nullable = true)\n",
      " |-- Month of absence: integer (nullable = true)\n",
      " |-- Day of the week: integer (nullable = true)\n",
      " |-- Distance from Residence to Work: integer (nullable = true)\n",
      " |-- Age: integer (nullable = true)\n",
      " |-- Body mass index: integer (nullable = true)\n",
      " |-- Absenteeism time in hours: integer (nullable = true)\n",
      "\n"
     ]
    }
   ],
   "source": [
    "df.printSchema()"
   ]
  },
  {
   "cell_type": "code",
   "execution_count": 4,
   "id": "bb6d7dcb-024b-42cc-b28f-a03b627af3f2",
   "metadata": {},
   "outputs": [
    {
     "name": "stdout",
     "output_type": "stream",
     "text": [
      "+---+----------------+---------------+-------------------------------+---+---------------+-------------------------+\n",
      "| ID|Month of absence|Day of the week|Distance from Residence to Work|Age|Body mass index|Absenteeism time in hours|\n",
      "+---+----------------+---------------+-------------------------------+---+---------------+-------------------------+\n",
      "| 11|               7|              3|                             36| 33|             30|                        4|\n",
      "| 36|               7|              3|                             13| 50|             31|                        0|\n",
      "|  3|               7|              4|                             51| 38|             31|                        2|\n",
      "|  7|               7|              5|                              5| 39|             24|                        4|\n",
      "| 11|               7|              5|                             36| 33|             30|                        2|\n",
      "|  3|               7|              6|                             51| 38|             31|                        2|\n",
      "| 10|               7|              6|                             52| 28|             27|                        8|\n",
      "| 20|               7|              6|                             50| 36|             23|                        4|\n",
      "| 14|               7|              2|                             12| 34|             25|                       40|\n",
      "|  1|               7|              2|                             11| 37|             29|                        8|\n",
      "+---+----------------+---------------+-------------------------------+---+---------------+-------------------------+\n",
      "only showing top 10 rows\n",
      "\n"
     ]
    }
   ],
   "source": [
    "df.show(10)"
   ]
  },
  {
   "cell_type": "markdown",
   "id": "8c794dd8-7fed-4d92-b882-b011cf104c1e",
   "metadata": {
    "tags": []
   },
   "source": [
    "#### a) Handle missing values\n"
   ]
  },
  {
   "cell_type": "code",
   "execution_count": 5,
   "id": "1576e6ff-74fb-4bd2-a277-80d1583c61d8",
   "metadata": {},
   "outputs": [],
   "source": [
    "df1 = df.dropna(how='any').dropDuplicates()"
   ]
  },
  {
   "cell_type": "code",
   "execution_count": 6,
   "id": "617caf38-3273-467f-add8-a3b59d131d38",
   "metadata": {},
   "outputs": [
    {
     "data": {
      "text/plain": [
       "648"
      ]
     },
     "execution_count": 6,
     "metadata": {},
     "output_type": "execute_result"
    }
   ],
   "source": [
    "df1.count()"
   ]
  },
  {
   "cell_type": "markdown",
   "id": "56a01536-02de-4571-a3a6-e1b6fa1d4316",
   "metadata": {},
   "source": [
    "#### b) Identify if an attribute has outliers or noise"
   ]
  },
  {
   "cell_type": "code",
   "execution_count": 7,
   "id": "a81565b2-646e-4354-96ea-a23469e5bd99",
   "metadata": {},
   "outputs": [],
   "source": [
    "col1 = df.drop('ID').select('*').toPandas()"
   ]
  },
  {
   "cell_type": "code",
   "execution_count": 8,
   "id": "ab6d1e50-d885-46d7-be4c-1ebfc15c27ff",
   "metadata": {},
   "outputs": [
    {
     "data": {
      "text/plain": [
       "<AxesSubplot:>"
      ]
     },
     "execution_count": 8,
     "metadata": {},
     "output_type": "execute_result"
    },
    {
     "data": {
      "image/png": "[encoded data removed]",
      "text/plain": [
       "<Figure size 432x288 with 1 Axes>"
      ]
     },
     "metadata": {
      "needs_background": "light"
     },
     "output_type": "display_data"
    }
   ],
   "source": [
    "import seaborn as sns\n",
    "sns.boxplot(data=col1,width=0.6, orient='h')"
   ]
  },
  {
   "cell_type": "code",
   "execution_count": 9,
   "id": "8a4c5ef9-c29e-4a09-90ff-e05257077122",
   "metadata": {},
   "outputs": [
    {
     "name": "stdout",
     "output_type": "stream",
     "text": [
      " \n",
      "Outliers found in \"Absenteeism time\" & \"Age\" \n",
      "\n",
      "\n",
      "44 Outliers in Absenteeism time in hours \n",
      "8 Outliers in Age  \n",
      "\n",
      "\n"
     ]
    }
   ],
   "source": [
    "print(' \\nOutliers found in \"Absenteeism time\" & \"Age\" \\n\\n')\n",
    "\n",
    "print('{} Outliers in Absenteeism time in hours '.format(df.select('Absenteeism time in hours').where(\n",
    "    df['Absenteeism time in hours'] > \"20\").count()))\n",
    "print('{} Outliers in Age '.format(df.select('Age').where(\n",
    "    df['Age'] > \"57\").count()),'\\n\\n')\n"
   ]
  },
  {
   "cell_type": "markdown",
   "id": "9e5f21eb-9f3c-49cc-8522-2d9514181f04",
   "metadata": {},
   "source": [
    "#### c) Apply measures of the central tendency and dispersion to analyze numeric attributes. That is, compute the mean, median, mode, range, variance, correlation for the attribute. Don’t just give values explain analyze them."
   ]
  },
  {
   "cell_type": "code",
   "execution_count": 10,
   "id": "5308bc9b-58b7-4a78-9476-f9beedf8a163",
   "metadata": {},
   "outputs": [],
   "source": [
    "from pyspark.sql.functions import *"
   ]
  },
  {
   "cell_type": "code",
   "execution_count": 11,
   "id": "4536a0a9-a153-4fd4-b109-f538bd2c73dd",
   "metadata": {},
   "outputs": [
    {
     "name": "stdout",
     "output_type": "stream",
     "text": [
      "Corelation between Age & Month of absence is                              -0.001519544498427041 \n",
      "Corelation between Day of the week & Distance from Residence to Work is    0.11802558057950518 \n"
     ]
    }
   ],
   "source": [
    "print('Corelation between Age & Month of absence is                              {} '\n",
    "      .format( df.corr('Age','Month of absence')))\n",
    "\n",
    "print('Corelation between Day of the week & Distance from Residence to Work is    {} '\n",
    "      .format( df.corr('Day of the week','Distance from Residence to Work')))\n",
    "\n"
   ]
  },
  {
   "cell_type": "code",
   "execution_count": 14,
   "id": "37223ee8-1a90-42cf-8b07-116941cf1d94",
   "metadata": {},
   "outputs": [
    {
     "name": "stdout",
     "output_type": "stream",
     "text": [
      "DenseMatrix([[ 1.        , -0.00151954,  0.00445883,  0.0657597 , -0.14588637],\n",
      "             [-0.00151954,  1.        , -0.00652801,  0.02434536, -0.00388726],\n",
      "             [ 0.00445883, -0.00652801,  1.        , -0.12436061,  0.11802558],\n",
      "             [ 0.0657597 ,  0.02434536, -0.12436061,  1.        , -0.08836282],\n",
      "             [-0.14588637, -0.00388726,  0.11802558, -0.08836282,  1.        ]])\n"
     ]
    }
   ],
   "source": [
    "## coreation between each attribute in matrix form\n",
    "\n",
    "\n",
    "from pyspark.ml.feature import VectorAssembler\n",
    "from pyspark.ml.stat import Correlation\n",
    "\n",
    "newdb = VectorAssembler(inputCols=['Age','Month of absence','Day of the week','Absenteeism time in hours',\n",
    "          'Distance from Residence to Work'], outputCol=\"feat\").transform(df)\n",
    "df_for_corelmatrix = newdb.select('feat')\n",
    "\n",
    "Correlmatrix = Correlation.corr(df_for_corelmatrix, 'feat').collect()[0]\n",
    "for cor in Correlmatrix:\n",
    "    print(cor)"
   ]
  },
  {
   "cell_type": "code",
   "execution_count": 13,
   "id": "91a0a7aa-938f-4b5b-994e-0736c87cd204",
   "metadata": {},
   "outputs": [
    {
     "name": "stdout",
     "output_type": "stream",
     "text": [
      "+-------+-----------------+------------------+------------------+-------------------------+-------------------------------+\n",
      "|summary|              Age|  Month of absence|   Day of the week|Absenteeism time in hours|Distance from Residence to Work|\n",
      "+-------+-----------------+------------------+------------------+-------------------------+-------------------------------+\n",
      "|  count|              740|               740|               740|                      740|                            740|\n",
      "|   mean|            36.45| 6.324324324324325|3.9148648648648647|        6.924324324324324|              29.63108108108108|\n",
      "| stddev|6.478772457611868|3.4362869319125897|1.4216747097562805|       13.330998100978196|             14.836788436739143|\n",
      "|    min|               27|                 0|                 2|                        0|                              5|\n",
      "|    25%|               31|                 3|                 3|                        2|                             16|\n",
      "|    50%|               37|                 6|                 4|                        3|                             26|\n",
      "|    75%|               40|                 9|                 5|                        8|                             50|\n",
      "|    max|               58|                12|                 6|                      120|                             52|\n",
      "+-------+-----------------+------------------+------------------+-------------------------+-------------------------------+\n",
      "\n"
     ]
    }
   ],
   "source": [
    "df.select('Age','Month of absence','Day of the week','Absenteeism time in hours',\n",
    "          'Distance from Residence to Work').summary().show()"
   ]
  },
  {
   "cell_type": "markdown",
   "id": "27c74a5f-d3fb-43c1-a2ad-6469ecd48a82",
   "metadata": {},
   "source": [
    "##### Results deduce:"
   ]
  },
  {
   "cell_type": "markdown",
   "id": "13ddbcbe-639d-496f-bc6b-7da0f3dc1f67",
   "metadata": {
    "tags": []
   },
   "source": [
    "By looking at the above data we analyzed that most of the employe lie in the age ranging between 27 to 58 and on average most of employee has an age of 35 years, similarly most of them prefeerd to take halfday/off on the 6th day of week that is on saturday. Employees took leaves for at max of 120 hours (5days OFF) and statistically speaking mean value is of 7hours that is a complete day Off if duty is 8hours per day. On average/mean people took Off/Halfday on 3rd day of week that is Wednesday. On average, employee residence distance from workplace is around 30Km and at max it is 52Km.\n",
    "<br><br>"
   ]
  },
  {
   "cell_type": "markdown",
   "id": "25e1bf5e-5fc2-4608-9049-a4facc877d7f",
   "metadata": {},
   "source": [
    "#### d) Would you apply preprocessing techniques like discretization or normalization on any attribute? Explain your answer. If yes, then apply the technique and share the results. <br>\n",
    "\n"
   ]
  },
  {
   "cell_type": "markdown",
   "id": "6a8ee8c1-c600-4a7b-81ef-43180701f723",
   "metadata": {},
   "source": [
    "\n",
    "\n",
    "Yes, i would apply preprocessing on 4 attributes which i will be considering the main features for my clustering. Since in clustering all the features should be in standerdize form so that the behaviour of the learning algorithum improves "
   ]
  },
  {
   "cell_type": "code",
   "execution_count": 15,
   "id": "a02079cc-03fe-4755-8d9f-99856542b6be",
   "metadata": {},
   "outputs": [],
   "source": [
    "from pyspark.ml.feature import VectorAssembler"
   ]
  },
  {
   "cell_type": "code",
   "execution_count": 16,
   "id": "2aafc178-262a-455b-9f13-5b2c856f56c3",
   "metadata": {},
   "outputs": [],
   "source": [
    "feat_col = ['Month of absence'  ,'Day of the week','Absenteeism time in hours','Distance from Residence to Work']"
   ]
  },
  {
   "cell_type": "code",
   "execution_count": 17,
   "id": "9170302b-b694-44a1-a29a-7414170ecdb6",
   "metadata": {},
   "outputs": [],
   "source": [
    "feat_vector = VectorAssembler(inputCols=feat_col, outputCol='features')"
   ]
  },
  {
   "cell_type": "code",
   "execution_count": 18,
   "id": "14ab8515-1743-40b1-828b-3beaf3814b31",
   "metadata": {},
   "outputs": [],
   "source": [
    "data = feat_vector.transform(df)"
   ]
  },
  {
   "cell_type": "code",
   "execution_count": 19,
   "id": "65ce4e34-0d2d-41f4-9cac-159fa9bcac8d",
   "metadata": {},
   "outputs": [],
   "source": [
    "final_data = data.select('ID','features')"
   ]
  },
  {
   "cell_type": "code",
   "execution_count": 20,
   "id": "acb7585e-ec67-401e-a63c-605de808e6cf",
   "metadata": {},
   "outputs": [
    {
     "data": {
      "text/plain": [
       "DataFrame[ID: int, features: vector]"
      ]
     },
     "execution_count": 20,
     "metadata": {},
     "output_type": "execute_result"
    }
   ],
   "source": [
    "final_data"
   ]
  },
  {
   "cell_type": "code",
   "execution_count": 21,
   "id": "e0b3ff29-4608-40f7-8a65-06b63bc62011",
   "metadata": {},
   "outputs": [
    {
     "name": "stdout",
     "output_type": "stream",
     "text": [
      "+---+------------------+\n",
      "|ID |features          |\n",
      "+---+------------------+\n",
      "|11 |[7.0,3.0,4.0,36.0]|\n",
      "|36 |[7.0,3.0,0.0,13.0]|\n",
      "|3  |[7.0,4.0,2.0,51.0]|\n",
      "|7  |[7.0,5.0,4.0,5.0] |\n",
      "+---+------------------+\n",
      "only showing top 4 rows\n",
      "\n",
      "\n",
      "\n",
      "\n"
     ]
    }
   ],
   "source": [
    "final_data.show(4,truncate=False)\n",
    "print('\\n\\n')"
   ]
  },
  {
   "cell_type": "markdown",
   "id": "467cec01-6c95-4e1d-ac58-3ccd27244c2d",
   "metadata": {},
   "source": [
    "#### <b>NOTE:</b>\n",
    "I used three types of scaling method one is using normalize and the other is StandardScaler lastly is MinMax scaling, to see the difference between these two scaling techniques"
   ]
  },
  {
   "cell_type": "markdown",
   "id": "25bea4de-f7bd-4082-908c-63a4e35cb86a",
   "metadata": {},
   "source": [
    "####  Normalizer Scaling technique"
   ]
  },
  {
   "cell_type": "code",
   "execution_count": 22,
   "id": "b634af94-62e6-411f-89d2-a01f592b35b3",
   "metadata": {},
   "outputs": [],
   "source": [
    "from pyspark.mllib.util import MLUtils\n",
    "from pyspark.ml.feature import Normalizer\n"
   ]
  },
  {
   "cell_type": "code",
   "execution_count": 23,
   "id": "078cabd0-d767-4008-bd86-87d903112a79",
   "metadata": {},
   "outputs": [],
   "source": [
    "normalizer = Normalizer(inputCol=\"features\", outputCol=\"normFeatures\", p=1.0)\n",
    "normData = normalizer.transform(final_data)"
   ]
  },
  {
   "cell_type": "code",
   "execution_count": 24,
   "id": "f37ebab4-98c6-4a27-8359-752e46421ed3",
   "metadata": {},
   "outputs": [
    {
     "name": "stdout",
     "output_type": "stream",
     "text": [
      "+---+------------------+--------------------------------------------------------------------------------+\n",
      "|ID |features          |normFeatures                                                                    |\n",
      "+---+------------------+--------------------------------------------------------------------------------+\n",
      "|11 |[7.0,3.0,4.0,36.0]|[0.14,0.06,0.08,0.72]                                                           |\n",
      "|36 |[7.0,3.0,0.0,13.0]|[0.30434782608695654,0.13043478260869565,0.0,0.5652173913043478]                |\n",
      "|3  |[7.0,4.0,2.0,51.0]|[0.109375,0.0625,0.03125,0.796875]                                              |\n",
      "|7  |[7.0,5.0,4.0,5.0] |[0.3333333333333333,0.23809523809523808,0.19047619047619047,0.23809523809523808]|\n",
      "+---+------------------+--------------------------------------------------------------------------------+\n",
      "only showing top 4 rows\n",
      "\n"
     ]
    }
   ],
   "source": [
    "normData.show(4,truncate=False)"
   ]
  },
  {
   "cell_type": "markdown",
   "id": "9573917f-c5ae-4d6e-a1a8-a7e6cd69fa97",
   "metadata": {},
   "source": [
    "#### StanderScaler Scaling technique"
   ]
  },
  {
   "cell_type": "code",
   "execution_count": 25,
   "id": "676cc12b-67c8-4f51-a5bb-ec8a5471fef5",
   "metadata": {},
   "outputs": [],
   "source": [
    "from pyspark.ml.feature import StandardScaler"
   ]
  },
  {
   "cell_type": "code",
   "execution_count": 26,
   "id": "e337bb0d-0618-4ecb-9e62-c30a34adba23",
   "metadata": {},
   "outputs": [],
   "source": [
    "scaler = StandardScaler(inputCol='features',outputCol= 'scalefeatures',withMean=False,withStd=True)"
   ]
  },
  {
   "cell_type": "code",
   "execution_count": 27,
   "id": "1ed3baa7-2172-40ac-8994-d76debc04379",
   "metadata": {},
   "outputs": [],
   "source": [
    "scaled_data = scaler.fit(final_data).transform(final_data)"
   ]
  },
  {
   "cell_type": "code",
   "execution_count": 28,
   "id": "06a22c36-b372-4a7a-9f3b-cb5449713735",
   "metadata": {},
   "outputs": [
    {
     "name": "stdout",
     "output_type": "stream",
     "text": [
      "+---+------------------+------------------------------------------------------------------------------+\n",
      "|ID |features          |scalefeatures                                                                 |\n",
      "+---+------------------+------------------------------------------------------------------------------+\n",
      "|11 |[7.0,3.0,4.0,36.0]|[2.0370825075727588,2.110187358199749,0.30005255193206337,2.426401114600792]  |\n",
      "|36 |[7.0,3.0,0.0,13.0]|[2.0370825075727588,2.110187358199749,0.0,0.8762004024947305]                 |\n",
      "|3  |[7.0,4.0,2.0,51.0]|[2.0370825075727588,2.8135831442663317,0.15002627596603169,3.4374015790177888]|\n",
      "|7  |[7.0,5.0,4.0,5.0] |[2.0370825075727588,3.5169789303329146,0.30005255193206337,0.3370001548056656]|\n",
      "+---+------------------+------------------------------------------------------------------------------+\n",
      "only showing top 4 rows\n",
      "\n"
     ]
    }
   ],
   "source": [
    "scaled_data.show(4,truncate=False)"
   ]
  },
  {
   "cell_type": "markdown",
   "id": "b61873eb-ec48-4f91-8af1-a9f0203c33ac",
   "metadata": {},
   "source": [
    "#### MinMaxScaler Scaling Technique"
   ]
  },
  {
   "cell_type": "code",
   "execution_count": 29,
   "id": "194f804d-fa6f-4141-8135-c021046b8e95",
   "metadata": {},
   "outputs": [],
   "source": [
    "from pyspark.ml.feature import MinMaxScaler"
   ]
  },
  {
   "cell_type": "code",
   "execution_count": 30,
   "id": "56d5d056-ba13-49bc-b277-96f38fcf72be",
   "metadata": {},
   "outputs": [],
   "source": [
    "scaler = MinMaxScaler(inputCol=\"features\", outputCol=\"scaleFeatures_minmax\",min=0,max=1)"
   ]
  },
  {
   "cell_type": "code",
   "execution_count": 31,
   "id": "b65a41b0-0569-4ebb-8656-abbb94cd3be4",
   "metadata": {},
   "outputs": [],
   "source": [
    "# Compute summary statistics and generate MinMaxScalerModel\n",
    "minmaxscaler = scaler.fit(final_data).transform(final_data)"
   ]
  },
  {
   "cell_type": "code",
   "execution_count": 32,
   "id": "4764a99d-e0af-4d7a-9d4a-c7383a4cd965",
   "metadata": {},
   "outputs": [
    {
     "name": "stdout",
     "output_type": "stream",
     "text": [
      "Features scaled to range: [0.000000, 1.000000]\n",
      "+------------------+----------------------------------------------------------------+\n",
      "|features          |scaleFeatures_minmax                                            |\n",
      "+------------------+----------------------------------------------------------------+\n",
      "|[7.0,3.0,4.0,36.0]|[0.5833333333333333,0.25,0.03333333333333333,0.6595744680851063]|\n",
      "|[7.0,3.0,0.0,13.0]|[0.5833333333333333,0.25,0.0,0.1702127659574468]                |\n",
      "|[7.0,4.0,2.0,51.0]|[0.5833333333333333,0.5,0.016666666666666666,0.9787234042553191]|\n",
      "|[7.0,5.0,4.0,5.0] |[0.5833333333333333,0.75,0.03333333333333333,0.0]               |\n",
      "+------------------+----------------------------------------------------------------+\n",
      "only showing top 4 rows\n",
      "\n"
     ]
    }
   ],
   "source": [
    "print(\"Features scaled to range: [%f, %f]\" % (scaler.getMin(), scaler.getMax()))\n",
    "minmaxscaler.select(\"features\", \"scaleFeatures_minmax\").show(4,truncate=False)"
   ]
  },
  {
   "cell_type": "markdown",
   "id": "5e32db05-248b-4ddd-828b-6baab1ec1d00",
   "metadata": {},
   "source": [
    "#### Differnce between the above techniques:\n",
    "- So what basically Normalizer does is normalizing each Vector to have unit norm. <br>\n",
    "- while StanderdScaler does is normalizing each feature to have unit standard deviation and zero mean.\n",
    "- MinMaxScaler, rescales each feature to a specific range (often [0, 1]).\n",
    "<br>\n",
    "<br>\n",
    "<br>"
   ]
  },
  {
   "cell_type": "markdown",
   "id": "2227e34a-8bf3-4c79-a8f8-e3e36f74cac2",
   "metadata": {},
   "source": [
    "### Question 2: CLUSTER THE DATA using the PySpark built-in K-means and bisecting K-means clustering algorithm (this is provided in the Spark ML Library).\n",
    "<br>"
   ]
  },
  {
   "cell_type": "markdown",
   "id": "c8c0f7ff-e27f-4387-9871-19e29a752b67",
   "metadata": {},
   "source": [
    "#### a) Cluster the given dataSet using atmost 3-4 attributes to avoid curse of dimensionality. You can select the attribute based on the preprocessing"
   ]
  },
  {
   "cell_type": "code",
   "execution_count": 33,
   "id": "908484d6-3f2c-4052-aadc-0260a6e04934",
   "metadata": {},
   "outputs": [],
   "source": [
    "from pyspark.ml.clustering import KMeans, BisectingKMeans\n",
    "from pyspark.ml.evaluation import ClusteringEvaluator\n"
   ]
  },
  {
   "cell_type": "markdown",
   "id": "6c90320c-c10e-49d9-a09b-793ca182f359",
   "metadata": {},
   "source": [
    "<b> For k=3:</b>"
   ]
  },
  {
   "cell_type": "code",
   "execution_count": 34,
   "id": "9205f23f-762b-4f6b-9d19-e78599b34bb5",
   "metadata": {},
   "outputs": [],
   "source": [
    "kmeans = KMeans(featuresCol='scalefeatures', k=3)"
   ]
  },
  {
   "cell_type": "code",
   "execution_count": 35,
   "id": "af2e5c01-aaa7-4ebe-be06-9e0ec87fb033",
   "metadata": {},
   "outputs": [],
   "source": [
    "model = kmeans.fit(scaled_data)"
   ]
  },
  {
   "cell_type": "code",
   "execution_count": 36,
   "id": "52fa6e37-5aa0-466c-8191-ae8e476d7f2a",
   "metadata": {},
   "outputs": [],
   "source": [
    "pred = model.transform(scaled_data)"
   ]
  },
  {
   "cell_type": "markdown",
   "id": "0da3df29-98ba-42e4-89b3-c0d225289875",
   "metadata": {},
   "source": [
    "<b> Sum of square error for Analyzing results"
   ]
  },
  {
   "cell_type": "code",
   "execution_count": 37,
   "id": "cf7e8158-510f-4a02-b2a7-e38cdb39d257",
   "metadata": {},
   "outputs": [
    {
     "name": "stdout",
     "output_type": "stream",
     "text": [
      "Cluster Centers: \n",
      "[2.82019148 2.20075334 0.4858147  2.01621552]\n",
      "[1.66903819 3.79368242 0.35934602 2.38650624]\n",
      "[1.067456   2.09821466 0.7380016  1.52754283]\n"
     ]
    }
   ],
   "source": [
    "# Shows the result.\n",
    "centers = model.clusterCenters()\n",
    "print(\"Cluster Centers: \")\n",
    "for center in centers:\n",
    "    print(center)"
   ]
  },
  {
   "cell_type": "code",
   "execution_count": null,
   "id": "0baba42a-2b95-4e97-9d3c-2f379452aac7",
   "metadata": {},
   "outputs": [],
   "source": []
  },
  {
   "cell_type": "markdown",
   "id": "a3ad3116-a589-415a-8cf1-e74f4ac2f730",
   "metadata": {},
   "source": [
    "<b> Silhouette co-efficient for Analyzing results"
   ]
  },
  {
   "cell_type": "code",
   "execution_count": 38,
   "id": "dccd25db-b743-432b-a819-fc9bb5858bf9",
   "metadata": {},
   "outputs": [],
   "source": [
    "evaluator = ClusteringEvaluator()"
   ]
  },
  {
   "cell_type": "code",
   "execution_count": 39,
   "id": "fd4db722-f81b-4383-b768-fd7415d50258",
   "metadata": {},
   "outputs": [
    {
     "name": "stdout",
     "output_type": "stream",
     "text": [
      "Silhouette with squared euclidean distance = -0.030729279203439153\n",
      "Cluster Centers: \n",
      "[2.82019148 2.20075334 0.4858147  2.01621552]\n",
      "[1.66903819 3.79368242 0.35934602 2.38650624]\n",
      "[1.067456   2.09821466 0.7380016  1.52754283]\n"
     ]
    }
   ],
   "source": [
    "silhouette = evaluator.evaluate(pred)\n",
    "print(\"Silhouette with squared euclidean distance = \" + str(silhouette))\n",
    "\n",
    "# Shows the result.\n",
    "centers = model.clusterCenters()\n",
    "print(\"Cluster Centers: \")\n",
    "for center in centers:\n",
    "    print(center)"
   ]
  },
  {
   "cell_type": "code",
   "execution_count": null,
   "id": "24358db1-0dc7-470b-bc03-7f0fbbf7edb6",
   "metadata": {},
   "outputs": [],
   "source": []
  },
  {
   "cell_type": "code",
   "execution_count": null,
   "id": "cb3fc737-8b78-4b9f-9614-e09a44da1716",
   "metadata": {},
   "outputs": [],
   "source": []
  },
  {
   "cell_type": "code",
   "execution_count": null,
   "id": "8fefc1c9-4f84-4473-9891-78cc36498abf",
   "metadata": {},
   "outputs": [],
   "source": []
  },
  {
   "cell_type": "markdown",
   "id": "a5b265ff-c74a-448f-9c56-2c2ad1bc3323",
   "metadata": {},
   "source": [
    "<b> For k=5:</b>"
   ]
  },
  {
   "cell_type": "code",
   "execution_count": 40,
   "id": "31d739fd-e846-475b-a064-c309bd6c7874",
   "metadata": {},
   "outputs": [],
   "source": [
    "kmeans = KMeans(featuresCol='scalefeatures', k=5)"
   ]
  },
  {
   "cell_type": "code",
   "execution_count": 41,
   "id": "1e6f36aa-74ea-4114-98a9-4b6e9f259ada",
   "metadata": {},
   "outputs": [],
   "source": [
    "model = kmeans.fit(scaled_data)"
   ]
  },
  {
   "cell_type": "code",
   "execution_count": 42,
   "id": "d2961beb-9015-49db-b340-51af5fd741ff",
   "metadata": {},
   "outputs": [],
   "source": [
    "pred = model.transform(scaled_data)"
   ]
  },
  {
   "cell_type": "code",
   "execution_count": 43,
   "id": "23924218-ae32-4c90-a8dc-ceb8b0dc9033",
   "metadata": {},
   "outputs": [],
   "source": [
    "evaluator = ClusteringEvaluator()\n"
   ]
  },
  {
   "cell_type": "code",
   "execution_count": 44,
   "id": "8c196b4d-dc28-4ff3-af48-5f5a052dddd7",
   "metadata": {},
   "outputs": [
    {
     "name": "stdout",
     "output_type": "stream",
     "text": [
      "Silhouette with squared euclidean distance = -0.0009443478259490324\n",
      "Cluster Centers: \n",
      "[2.58890674 2.1433664  0.39983418 3.13155804]\n",
      "[2.63900432 1.8757221  1.37459973 1.29673051]\n",
      "[2.42157995 3.75022935 0.30005255 1.72131996]\n",
      "[0.97052431 2.3528589  0.34881109 1.29273259]\n",
      "[0.94578831 3.19931632 0.43132554 3.25368214]\n"
     ]
    }
   ],
   "source": [
    "silhouette = evaluator.evaluate(pred)\n",
    "print(\"Silhouette with squared euclidean distance = \" + str(silhouette))\n",
    "\n",
    "# Shows the result.\n",
    "centers = model.clusterCenters()\n",
    "print(\"Cluster Centers: \")\n",
    "for center in centers:\n",
    "    print(center)"
   ]
  },
  {
   "cell_type": "markdown",
   "id": "189ce965-6fc0-4b95-819e-4cf5095791a9",
   "metadata": {},
   "source": [
    "<b> For k=4:</b>"
   ]
  },
  {
   "cell_type": "code",
   "execution_count": 45,
   "id": "c3baf3ba-fb22-4cbc-9666-ff148a91966a",
   "metadata": {},
   "outputs": [],
   "source": [
    "kmeans = KMeans(featuresCol='scaleFeatures_minmax', k=4)"
   ]
  },
  {
   "cell_type": "code",
   "execution_count": 46,
   "id": "19133ad2-dbea-4535-93ba-2cd78e0a1fe8",
   "metadata": {},
   "outputs": [],
   "source": [
    "model = kmeans.fit(minmaxscaler)"
   ]
  },
  {
   "cell_type": "code",
   "execution_count": 47,
   "id": "56ef264a-ad5f-4357-a0dd-411abba2c13c",
   "metadata": {},
   "outputs": [
    {
     "data": {
      "text/plain": [
       "[array([0.51531863, 0.25      , 0.04987745, 0.93585732]),\n",
       " array([0.82660455, 0.29813665, 0.06811594, 0.34637241]),\n",
       " array([0.5171371 , 0.89516129, 0.04089382, 0.59565889]),\n",
       " array([0.30042735, 0.25769231, 0.07594017, 0.29252591])]"
      ]
     },
     "execution_count": 47,
     "metadata": {},
     "output_type": "execute_result"
    }
   ],
   "source": [
    "model.clusterCenters()"
   ]
  },
  {
   "cell_type": "code",
   "execution_count": 48,
   "id": "9ddcfaf5-997b-403a-8f3e-80532e5a4c77",
   "metadata": {},
   "outputs": [
    {
     "name": "stdout",
     "output_type": "stream",
     "text": [
      "+---+-------------------+--------------------+----------+\n",
      "| ID|           features|scaleFeatures_minmax|prediction|\n",
      "+---+-------------------+--------------------+----------+\n",
      "| 11| [7.0,3.0,4.0,36.0]|[0.58333333333333...|         0|\n",
      "| 36| [7.0,3.0,0.0,13.0]|[0.58333333333333...|         1|\n",
      "|  3| [7.0,4.0,2.0,51.0]|[0.58333333333333...|         0|\n",
      "|  7|  [7.0,5.0,4.0,5.0]|[0.58333333333333...|         2|\n",
      "| 11| [7.0,5.0,2.0,36.0]|[0.58333333333333...|         2|\n",
      "|  3| [7.0,6.0,2.0,51.0]|[0.58333333333333...|         2|\n",
      "| 10| [7.0,6.0,8.0,52.0]|[0.58333333333333...|         2|\n",
      "| 20| [7.0,6.0,4.0,50.0]|[0.58333333333333...|         2|\n",
      "| 14|[7.0,2.0,40.0,12.0]|[0.58333333333333...|         3|\n",
      "|  1| [7.0,2.0,8.0,11.0]|[0.58333333333333...|         3|\n",
      "| 20| [7.0,2.0,8.0,50.0]|[0.58333333333333...|         0|\n",
      "| 20| [7.0,3.0,8.0,50.0]|[0.58333333333333...|         0|\n",
      "| 20| [7.0,4.0,8.0,50.0]|[0.58333333333333...|         0|\n",
      "|  3| [7.0,4.0,1.0,51.0]|[0.58333333333333...|         0|\n",
      "|  3| [7.0,4.0,4.0,51.0]|[0.58333333333333...|         0|\n",
      "| 24| [7.0,6.0,8.0,25.0]|[0.58333333333333...|         2|\n",
      "|  3| [7.0,6.0,2.0,51.0]|[0.58333333333333...|         2|\n",
      "|  3| [7.0,2.0,8.0,51.0]|[0.58333333333333...|         0|\n",
      "|  6| [7.0,5.0,8.0,29.0]|[0.58333333333333...|         2|\n",
      "| 33| [8.0,4.0,2.0,25.0]|[0.66666666666666...|         1|\n",
      "+---+-------------------+--------------------+----------+\n",
      "only showing top 20 rows\n",
      "\n"
     ]
    }
   ],
   "source": [
    "pred = model.transform(minmaxscaler).show()"
   ]
  },
  {
   "cell_type": "markdown",
   "id": "f431ee82-a8fa-47a8-93c7-8e1db1bd8427",
   "metadata": {},
   "source": [
    "<b> For k=4:</b>"
   ]
  },
  {
   "cell_type": "code",
   "execution_count": 49,
   "id": "a35b1a78-0570-4541-9d24-0cdf1bb611c3",
   "metadata": {},
   "outputs": [],
   "source": [
    "kmeans = KMeans(featuresCol='scaleFeatures_minmax', k=4)"
   ]
  },
  {
   "cell_type": "code",
   "execution_count": 50,
   "id": "26dcc903-c31a-4a03-8392-c401e19688f7",
   "metadata": {},
   "outputs": [],
   "source": [
    "model = kmeans.fit(minmaxscaler)"
   ]
  },
  {
   "cell_type": "code",
   "execution_count": 51,
   "id": "ae0d7987-a592-4046-ab43-edc401e12a31",
   "metadata": {},
   "outputs": [
    {
     "data": {
      "text/plain": [
       "[array([0.51531863, 0.25      , 0.04987745, 0.93585732]),\n",
       " array([0.82660455, 0.29813665, 0.06811594, 0.34637241]),\n",
       " array([0.5171371 , 0.89516129, 0.04089382, 0.59565889]),\n",
       " array([0.30042735, 0.25769231, 0.07594017, 0.29252591])]"
      ]
     },
     "execution_count": 51,
     "metadata": {},
     "output_type": "execute_result"
    }
   ],
   "source": [
    "model.clusterCenters()"
   ]
  },
  {
   "cell_type": "code",
   "execution_count": 52,
   "id": "52969c7e-c972-47ee-8259-bb8b635472ff",
   "metadata": {},
   "outputs": [
    {
     "name": "stdout",
     "output_type": "stream",
     "text": [
      "+---+-------------------+--------------------+----------+\n",
      "| ID|           features|scaleFeatures_minmax|prediction|\n",
      "+---+-------------------+--------------------+----------+\n",
      "| 11| [7.0,3.0,4.0,36.0]|[0.58333333333333...|         0|\n",
      "| 36| [7.0,3.0,0.0,13.0]|[0.58333333333333...|         1|\n",
      "|  3| [7.0,4.0,2.0,51.0]|[0.58333333333333...|         0|\n",
      "|  7|  [7.0,5.0,4.0,5.0]|[0.58333333333333...|         2|\n",
      "| 11| [7.0,5.0,2.0,36.0]|[0.58333333333333...|         2|\n",
      "|  3| [7.0,6.0,2.0,51.0]|[0.58333333333333...|         2|\n",
      "| 10| [7.0,6.0,8.0,52.0]|[0.58333333333333...|         2|\n",
      "| 20| [7.0,6.0,4.0,50.0]|[0.58333333333333...|         2|\n",
      "| 14|[7.0,2.0,40.0,12.0]|[0.58333333333333...|         3|\n",
      "|  1| [7.0,2.0,8.0,11.0]|[0.58333333333333...|         3|\n",
      "| 20| [7.0,2.0,8.0,50.0]|[0.58333333333333...|         0|\n",
      "| 20| [7.0,3.0,8.0,50.0]|[0.58333333333333...|         0|\n",
      "| 20| [7.0,4.0,8.0,50.0]|[0.58333333333333...|         0|\n",
      "|  3| [7.0,4.0,1.0,51.0]|[0.58333333333333...|         0|\n",
      "|  3| [7.0,4.0,4.0,51.0]|[0.58333333333333...|         0|\n",
      "| 24| [7.0,6.0,8.0,25.0]|[0.58333333333333...|         2|\n",
      "|  3| [7.0,6.0,2.0,51.0]|[0.58333333333333...|         2|\n",
      "|  3| [7.0,2.0,8.0,51.0]|[0.58333333333333...|         0|\n",
      "|  6| [7.0,5.0,8.0,29.0]|[0.58333333333333...|         2|\n",
      "| 33| [8.0,4.0,2.0,25.0]|[0.66666666666666...|         1|\n",
      "+---+-------------------+--------------------+----------+\n",
      "only showing top 20 rows\n",
      "\n"
     ]
    }
   ],
   "source": [
    "pred = model.transform(minmaxscaler).show()"
   ]
  },
  {
   "cell_type": "markdown",
   "id": "8a049bb4-5107-49ba-8700-a1e4953e6f82",
   "metadata": {},
   "source": [
    "<b> For k=6:</b>"
   ]
  },
  {
   "cell_type": "code",
   "execution_count": 53,
   "id": "b0f97cf3-cb3a-464a-ab2f-bf401bbaddac",
   "metadata": {},
   "outputs": [],
   "source": [
    "kmeans = KMeans(featuresCol='scalefeatures', k=6)"
   ]
  },
  {
   "cell_type": "code",
   "execution_count": 54,
   "id": "dfb59407-cbd2-4fe4-b7b5-a7be264c073e",
   "metadata": {},
   "outputs": [],
   "source": [
    "model = kmeans.fit(scaled_data)"
   ]
  },
  {
   "cell_type": "code",
   "execution_count": 55,
   "id": "4cadc96f-c9f5-48fe-be6b-d0802250b035",
   "metadata": {},
   "outputs": [
    {
     "data": {
      "text/plain": [
       "[array([0.88842541, 2.8000563 , 0.39201577, 1.36323043]),\n",
       " array([2.04796145, 1.91297359, 0.46129575, 3.29315291]),\n",
       " array([2.74968829, 3.70184577, 0.31976754, 1.95114449]),\n",
       " array([2.16180184, 2.21067247, 6.55829149, 1.16024339]),\n",
       " array([1.06908541, 3.64284976, 0.3821722 , 3.29621625]),\n",
       " array([2.48269431, 1.85081016, 0.47164511, 1.30124185])]"
      ]
     },
     "execution_count": 55,
     "metadata": {},
     "output_type": "execute_result"
    }
   ],
   "source": [
    "model.clusterCenters()"
   ]
  },
  {
   "cell_type": "code",
   "execution_count": 56,
   "id": "65a8fdc6-dc9a-4ed8-8ebb-fd5cc3b1b6e3",
   "metadata": {},
   "outputs": [
    {
     "name": "stdout",
     "output_type": "stream",
     "text": [
      "+---+-------------------+--------------------+----------+\n",
      "| ID|           features|       scalefeatures|prediction|\n",
      "+---+-------------------+--------------------+----------+\n",
      "| 11| [7.0,3.0,4.0,36.0]|[2.03708250757275...|         1|\n",
      "| 36| [7.0,3.0,0.0,13.0]|[2.03708250757275...|         5|\n",
      "|  3| [7.0,4.0,2.0,51.0]|[2.03708250757275...|         1|\n",
      "|  7|  [7.0,5.0,4.0,5.0]|[2.03708250757275...|         0|\n",
      "| 11| [7.0,5.0,2.0,36.0]|[2.03708250757275...|         2|\n",
      "|  3| [7.0,6.0,2.0,51.0]|[2.03708250757275...|         4|\n",
      "| 10| [7.0,6.0,8.0,52.0]|[2.03708250757275...|         4|\n",
      "| 20| [7.0,6.0,4.0,50.0]|[2.03708250757275...|         4|\n",
      "| 14|[7.0,2.0,40.0,12.0]|[2.03708250757275...|         5|\n",
      "|  1| [7.0,2.0,8.0,11.0]|[2.03708250757275...|         5|\n",
      "+---+-------------------+--------------------+----------+\n",
      "only showing top 10 rows\n",
      "\n"
     ]
    }
   ],
   "source": [
    "pred = model.transform(scaled_data).show(10)"
   ]
  },
  {
   "cell_type": "markdown",
   "id": "f94bd11f-ed38-4d2c-81ad-006c01aa4441",
   "metadata": {},
   "source": [
    "#### Using Bisecting Kmeans"
   ]
  },
  {
   "cell_type": "markdown",
   "id": "51b4813b-aeaf-47fa-8362-cfcaea98b98f",
   "metadata": {},
   "source": [
    "#### For K = 6"
   ]
  },
  {
   "cell_type": "code",
   "execution_count": 57,
   "id": "e1789aed-9d87-44e2-8b2a-976b682402c2",
   "metadata": {},
   "outputs": [],
   "source": [
    "bisectkmean = BisectingKMeans(featuresCol='scaleFeatures_minmax',k=6)"
   ]
  },
  {
   "cell_type": "code",
   "execution_count": 58,
   "id": "5d99b3ff-e066-47bd-b812-b5a00c4cb685",
   "metadata": {},
   "outputs": [],
   "source": [
    "model = bisectkmean.fit(minmaxscaler)"
   ]
  },
  {
   "cell_type": "code",
   "execution_count": 59,
   "id": "93bdc44d-b4d3-41bf-8064-3dd5ccd2dc51",
   "metadata": {},
   "outputs": [],
   "source": [
    "pred = model.transform(minmaxscaler)"
   ]
  },
  {
   "cell_type": "code",
   "execution_count": 60,
   "id": "184df840-96e9-41d4-913e-021a8b28b5b5",
   "metadata": {},
   "outputs": [
    {
     "name": "stdout",
     "output_type": "stream",
     "text": [
      "\n",
      "Silhouette with squared euclidean distance = -0.15912229091375651\n",
      "\n",
      "Cluster Centers: \n",
      "[0.32777778 0.26515152 0.07540404 0.25892972] \n",
      "\n",
      "[0.23469388 0.07653061 0.06938776 0.7485888 ] \n",
      "\n",
      "[0.70512821 0.10384615 0.0524359  0.901473  ] \n",
      "\n",
      "[0.82512626 0.24431818 0.07335859 0.33687943] \n",
      "\n",
      "[0.27921456 0.81034483 0.04434866 0.58987528] \n",
      "\n",
      "[0.7811828  0.81774194 0.03903226 0.66259437] \n",
      "\n",
      "+---+-------------------+--------------------+----------+\n",
      "| ID|           features|scaleFeatures_minmax|prediction|\n",
      "+---+-------------------+--------------------+----------+\n",
      "| 11| [7.0,3.0,4.0,36.0]|[0.58333333333333...|         2|\n",
      "| 36| [7.0,3.0,0.0,13.0]|[0.58333333333333...|         0|\n",
      "|  3| [7.0,4.0,2.0,51.0]|[0.58333333333333...|         5|\n",
      "|  7|  [7.0,5.0,4.0,5.0]|[0.58333333333333...|         4|\n",
      "| 11| [7.0,5.0,2.0,36.0]|[0.58333333333333...|         5|\n",
      "|  3| [7.0,6.0,2.0,51.0]|[0.58333333333333...|         5|\n",
      "| 10| [7.0,6.0,8.0,52.0]|[0.58333333333333...|         5|\n",
      "| 20| [7.0,6.0,4.0,50.0]|[0.58333333333333...|         5|\n",
      "| 14|[7.0,2.0,40.0,12.0]|[0.58333333333333...|         0|\n",
      "|  1| [7.0,2.0,8.0,11.0]|[0.58333333333333...|         0|\n",
      "| 20| [7.0,2.0,8.0,50.0]|[0.58333333333333...|         2|\n",
      "| 20| [7.0,3.0,8.0,50.0]|[0.58333333333333...|         2|\n",
      "| 20| [7.0,4.0,8.0,50.0]|[0.58333333333333...|         5|\n",
      "|  3| [7.0,4.0,1.0,51.0]|[0.58333333333333...|         5|\n",
      "|  3| [7.0,4.0,4.0,51.0]|[0.58333333333333...|         5|\n",
      "| 24| [7.0,6.0,8.0,25.0]|[0.58333333333333...|         5|\n",
      "|  3| [7.0,6.0,2.0,51.0]|[0.58333333333333...|         5|\n",
      "|  3| [7.0,2.0,8.0,51.0]|[0.58333333333333...|         2|\n",
      "|  6| [7.0,5.0,8.0,29.0]|[0.58333333333333...|         5|\n",
      "| 33| [8.0,4.0,2.0,25.0]|[0.66666666666666...|         3|\n",
      "+---+-------------------+--------------------+----------+\n",
      "only showing top 20 rows\n",
      "\n"
     ]
    }
   ],
   "source": [
    "silhouette = evaluator.evaluate(pred)\n",
    "print(\"\\nSilhouette with squared euclidean distance = \" + str(silhouette))\n",
    "\n",
    "# Shows the result.\n",
    "centers = model.clusterCenters()\n",
    "print(\"\\nCluster Centers: \")\n",
    "for center in centers:\n",
    "    print(center,'\\n')\n",
    "    \n",
    "pred.show(20)"
   ]
  },
  {
   "cell_type": "code",
   "execution_count": null,
   "id": "3619fa37-cabd-4cbf-85cd-08013033b8c0",
   "metadata": {},
   "outputs": [],
   "source": []
  },
  {
   "cell_type": "code",
   "execution_count": null,
   "id": "35525d05-9470-4d0b-826f-31469ed2ec53",
   "metadata": {},
   "outputs": [],
   "source": []
  },
  {
   "cell_type": "code",
   "execution_count": null,
   "id": "84e71d0c-bcbe-4963-b25d-391cc514259f",
   "metadata": {},
   "outputs": [],
   "source": []
  },
  {
   "cell_type": "code",
   "execution_count": null,
   "id": "ab7e3b48-59f1-4a20-9757-e880209fe324",
   "metadata": {},
   "outputs": [],
   "source": []
  }
 ],
 "metadata": {
  "kernelspec": {
   "display_name": "Python 3 (ipykernel)",
   "language": "python",
   "name": "python3"
  },
  "language_info": {
   "codemirror_mode": {
    "name": "ipython",
    "version": 3
   },
   "file_extension": ".py",
   "mimetype": "text/x-python",
   "name": "python",
   "nbconvert_exporter": "python",
   "pygments_lexer": "ipython3",
   "version": "3.9.7"
  }
 },
 "nbformat": 4,
 "nbformat_minor": 5
}
