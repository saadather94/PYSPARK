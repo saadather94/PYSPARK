{
 "cells": [
  {
   "cell_type": "markdown",
   "id": "9b9dde85-d2b0-40ad-a14c-f91b1b7d8fba",
   "metadata": {
    "tags": []
   },
   "source": [
    "\n",
    "<img align=\"left\" width=\"75\" height=\"75\"  src=\"https://upload.wikimedia.org/wikipedia/en/e/e4/National_University_of_Computer_and_Emerging_Sciences_logo.png\"> \n",
    "\n",
    "<h1 align=\"center\" style=\"color:Brown;\"> BIG DATA ANALYTICS </h1> <h3 align=\"center\" style=\"color:DarkRed;\"> ASSIGNMENT 1 <h3><div align=\"right\" style=\"color:Purple;\">Name: <u>SAAD ATHER</u><br> Roll No. <u>21L-7289</u></div></h3></h3> \n",
    "\n",
    "---\n",
    "\n",
    "    \n"
   ]
  },
  {
   "cell_type": "markdown",
   "id": "fa4aa482-9615-417b-b23f-9a02e4bedae0",
   "metadata": {},
   "source": [
    "<h4>Question 1: (10 marks) We have a huge data file of FAST students. The file consists of the roll number of\n",
    "the FAST students, followed by the subject code and the student grade in that subject.\n",
    "Consider an input file in the following format: </h4>\n",
    "<b>\n",
    "L22-2100 DB D\n",
    "<br>\n",
    "K21-1601 SE F\n",
    "<br>\n",
    "I21-1601 OS F\n",
    "<br>\n",
    "K21-1702 DS B\n",
    "<br>\n",
    "L21-1705 OS A\n",
    "<br>\n",
    "L22-2101 DB D\n",
    "<br>\n",
    "K21-1601 OS F\n",
    "<br>\n",
    "L21-1601 SE F\n",
    "<br>\n",
    "L21-1702 SE B\n",
    "<br>\n",
    "L21-1705 DB A<br>\n",
    "\n",
    "\n",
    "</b>\n",
    "\n",
    "---"
   ]
  },
  {
   "cell_type": "code",
   "execution_count": 1,
   "id": "cad13839-baf6-4f77-ba1c-b46ddc786c8f",
   "metadata": {},
   "outputs": [],
   "source": [
    "import findspark"
   ]
  },
  {
   "cell_type": "code",
   "execution_count": 2,
   "id": "36361890-baee-457d-9a59-d19c08f4a8b9",
   "metadata": {},
   "outputs": [],
   "source": [
    "findspark.init()"
   ]
  },
  {
   "cell_type": "code",
   "execution_count": 3,
   "id": "b558fcf0-88df-4a92-ad55-f1c593e45627",
   "metadata": {},
   "outputs": [],
   "source": [
    "import pyspark"
   ]
  },
  {
   "cell_type": "code",
   "execution_count": 4,
   "id": "7ad8d34e-4971-4b06-9a6a-6f21686289ae",
   "metadata": {},
   "outputs": [],
   "source": [
    "from pyspark.sql import SparkSession as ss1"
   ]
  },
  {
   "cell_type": "code",
   "execution_count": 5,
   "id": "8435e840-2491-4371-ae5c-5148e21745b0",
   "metadata": {},
   "outputs": [],
   "source": [
    "spark = ss1.builder.appName('SESSION1').getOrCreate()"
   ]
  },
  {
   "cell_type": "code",
   "execution_count": 6,
   "id": "88d6de0e-8509-4167-8d80-6ab99c840a41",
   "metadata": {},
   "outputs": [],
   "source": [
    "sc = spark.sparkContext"
   ]
  },
  {
   "cell_type": "markdown",
   "id": "25f3ad78-833e-467e-92b0-97cd2b45b6f3",
   "metadata": {},
   "source": [
    "<br>\n",
    "\n",
    "#### i. Select the records of students from the Lahore campus. Display a few records and print the count of the students from Lahore."
   ]
  },
  {
   "cell_type": "code",
   "execution_count": 7,
   "id": "04645298-b5b7-42a2-8c7b-4ceb62dbec75",
   "metadata": {},
   "outputs": [],
   "source": [
    "file = sc.textFile('FAST.txt')"
   ]
  },
  {
   "cell_type": "code",
   "execution_count": 8,
   "id": "bee49455-c197-4b7f-8942-2f7a3405a977",
   "metadata": {},
   "outputs": [
    {
     "data": {
      "text/plain": [
       "['L22-2100 DB D',\n",
       " 'K21-1601 SE F',\n",
       " 'I21-1601 OS F',\n",
       " 'K21-1702 DS B',\n",
       " 'L21-1705 OS A',\n",
       " 'L22-2101 DB D',\n",
       " 'L21-1601 SE F',\n",
       " 'L21-1702 SE B',\n",
       " 'L01-2002 DB D',\n",
       " 'K18-1891 SE F',\n",
       " 'I95-1223 OS F',\n",
       " 'L09-7245 DB D',\n",
       " 'K10-1983 SE F',\n",
       " 'I15-1245 OS F',\n",
       " 'P10-1991 SE F',\n",
       " 'F19-1111 OS F',\n",
       " 'P21-7252 DB D',\n",
       " 'F17-1963 SE D',\n",
       " 'P12-2425 OS F',\n",
       " 'F11-1235 OS F']"
      ]
     },
     "execution_count": 8,
     "metadata": {},
     "output_type": "execute_result"
    }
   ],
   "source": [
    "op1 = file.map(lambda x:x).collect()\n",
    "\n",
    "op1 ## Open the file and show all the record of students of FAST"
   ]
  },
  {
   "cell_type": "code",
   "execution_count": 9,
   "id": "5ecf5892-8e81-4972-87a9-d6188a368706",
   "metadata": {},
   "outputs": [
    {
     "data": {
      "text/plain": [
       "['L22-2100 DB D',\n",
       " 'L21-1705 OS A',\n",
       " 'L22-2101 DB D',\n",
       " 'L21-1601 SE F',\n",
       " 'L21-1702 SE B',\n",
       " 'L01-2002 DB D',\n",
       " 'L09-7245 DB D']"
      ]
     },
     "execution_count": 9,
     "metadata": {},
     "output_type": "execute_result"
    }
   ],
   "source": [
    "## Shows the record of students from Lahore\n",
    "\n",
    "op2 = file.filter(lambda x: x[0]=='L').collect()\n",
    "op2"
   ]
  },
  {
   "cell_type": "code",
   "execution_count": 10,
   "id": "ff357f17-fcef-4984-9c84-c54246f8965e",
   "metadata": {},
   "outputs": [],
   "source": [
    "## COUNT OF STUDENT OF LAHORE\n",
    "\n",
    "op3 = file.filter(lambda x: x[0]=='L').count()"
   ]
  },
  {
   "cell_type": "code",
   "execution_count": 11,
   "id": "bf5b81ab-d8d3-4d24-9524-ace0b95ea811",
   "metadata": {},
   "outputs": [
    {
     "name": "stdout",
     "output_type": "stream",
     "text": [
      "TOTAL OF 7 STUDENTS ARE FROM LAHORE CAMPUS\n"
     ]
    }
   ],
   "source": [
    "print('TOTAL OF {} STUDENTS ARE FROM LAHORE CAMPUS'.format(op3))"
   ]
  },
  {
   "cell_type": "markdown",
   "id": "f9fe9be0-9867-4cb1-8576-11504f64df38",
   "metadata": {},
   "source": [
    "<br>\n",
    "\n",
    "\n",
    "#### ii. Filter the records of the students from the year in the range of 1995- 2018."
   ]
  },
  {
   "cell_type": "code",
   "execution_count": 12,
   "id": "5fa8fad7-5ce0-4e3d-9c76-7924bcc3ed41",
   "metadata": {},
   "outputs": [],
   "source": [
    "## creating a list of years from 1995 to 2018\n",
    "\n",
    "range_ = [str(x) for x in range(0,19)]\n",
    "for x in range(95,100): range_.append(str(x))"
   ]
  },
  {
   "cell_type": "code",
   "execution_count": 13,
   "id": "e7f4ded2-7c53-4600-8aa4-7f66f76a151e",
   "metadata": {},
   "outputs": [],
   "source": [
    "op4 = file.filter(lambda x : x[1:3] in range_).collect()"
   ]
  },
  {
   "cell_type": "code",
   "execution_count": 14,
   "id": "29cbf47a-04db-4156-a706-9dacb695ecc0",
   "metadata": {},
   "outputs": [
    {
     "name": "stdout",
     "output_type": "stream",
     "text": [
      "['K18-1891 SE F', 'I95-1223 OS F', 'K10-1983 SE F', 'I15-1245 OS F', 'P10-1991 SE F', 'F17-1963 SE D', 'P12-2425 OS F', 'F11-1235 OS F']\n"
     ]
    }
   ],
   "source": [
    "print(op4)"
   ]
  },
  {
   "cell_type": "markdown",
   "id": "d49123cc-a930-4ab7-ae0d-927efda3c17b",
   "metadata": {},
   "source": [
    "<br>\n",
    "\n",
    "#### iii. Display the count of students on each Campus."
   ]
  },
  {
   "cell_type": "code",
   "execution_count": 15,
   "id": "42c3703d-df7b-4f6d-9f7b-a8c6041e1bcd",
   "metadata": {},
   "outputs": [
    {
     "data": {
      "text/plain": [
       "[('L', 7), ('K', 4), ('I', 3), ('P', 3), ('F', 3)]"
      ]
     },
     "execution_count": 15,
     "metadata": {},
     "output_type": "execute_result"
    }
   ],
   "source": [
    "op5 = file.groupBy(lambda x: x[0]).mapValues(len).collect()\n",
    "op5"
   ]
  },
  {
   "cell_type": "code",
   "execution_count": 16,
   "id": "3f762b21-15f3-438a-830c-db406a9cb007",
   "metadata": {},
   "outputs": [
    {
     "name": "stdout",
     "output_type": "stream",
     "text": [
      "Students in Lahore campus are 7 \n",
      "Students in Karachi campus are 4 \n",
      "Students in Islamabad campus are 3 \n",
      "Students in Peshaware campus are 3 \n",
      "Students in Faisalabad campus are 3 \n"
     ]
    }
   ],
   "source": [
    "for x,y in op5:\n",
    "    if (x=='L'): print('Students in {} campus are {} '.format('Lahore',y))\n",
    "    if (x=='I'): print('Students in {} campus are {} '.format('Islamabad',y))\n",
    "    if (x=='K'): print('Students in {} campus are {} '.format('Karachi',y))\n",
    "    if (x=='P'): print('Students in {} campus are {} '.format('Peshaware',y))\n",
    "    if (x=='F'): print('Students in {} campus are {} '.format('Faisalabad',y))\n",
    "    "
   ]
  },
  {
   "cell_type": "markdown",
   "id": "6e80988f-0053-424f-af95-382428a31bb9",
   "metadata": {
    "tags": []
   },
   "source": [
    "<br>\n",
    "\n",
    "#### iv. Partition the input data on the base of Campus. (override Spark Partitioner). "
   ]
  },
  {
   "cell_type": "code",
   "execution_count": 17,
   "id": "a00ba15a-d13b-4df5-a570-aebdaf3a830f",
   "metadata": {},
   "outputs": [],
   "source": [
    "op6 = file.map(lambda x: x.split('-'))"
   ]
  },
  {
   "cell_type": "code",
   "execution_count": 18,
   "id": "bbb4fc83-dc92-4991-8fde-17fae1783b53",
   "metadata": {},
   "outputs": [],
   "source": [
    "op7 = op6.groupByKey().mapValues(len)"
   ]
  },
  {
   "cell_type": "code",
   "execution_count": 19,
   "id": "0fd397fc-689e-4760-9e5d-3c28d1c3c472",
   "metadata": {},
   "outputs": [],
   "source": [
    "def partfun(l):\n",
    "    for x in l:\n",
    "        \n",
    "        #print(x[0][0])\n",
    "        \n",
    "        if (x[0][0]== 'L'): return 0\n",
    "        if (x[0][0]== 'I'): return 1\n",
    "        if (x[0][0]== 'K'): return 2\n",
    "        if (x[0][0]== 'P'): return 3\n",
    "        if (x[0][0]== 'F'): return 4"
   ]
  },
  {
   "cell_type": "code",
   "execution_count": 20,
   "id": "2f6d3117-9514-4efa-888e-c7378eaec457",
   "metadata": {},
   "outputs": [
    {
     "data": {
      "text/plain": [
       "['L22-2100 DB D',\n",
       " 'K21-1601 SE F',\n",
       " 'I21-1601 OS F',\n",
       " 'K21-1702 DS B',\n",
       " 'L21-1705 OS A',\n",
       " 'L22-2101 DB D',\n",
       " 'L21-1601 SE F',\n",
       " 'L21-1702 SE B',\n",
       " 'L01-2002 DB D',\n",
       " 'K18-1891 SE F',\n",
       " 'I95-1223 OS F',\n",
       " 'L09-7245 DB D',\n",
       " 'K10-1983 SE F',\n",
       " 'I15-1245 OS F',\n",
       " 'P10-1991 SE F',\n",
       " 'F19-1111 OS F',\n",
       " 'P21-7252 DB D',\n",
       " 'F17-1963 SE D',\n",
       " 'P12-2425 OS F',\n",
       " 'F11-1235 OS F']"
      ]
     },
     "execution_count": 20,
     "metadata": {},
     "output_type": "execute_result"
    }
   ],
   "source": [
    "op = file.map(lambda x: x).collect()\n",
    "op"
   ]
  },
  {
   "cell_type": "code",
   "execution_count": 21,
   "id": "a8d2cc9e-b981-4bbd-a009-f1ecf108fb72",
   "metadata": {},
   "outputs": [
    {
     "data": {
      "text/plain": [
       "'L'"
      ]
     },
     "execution_count": 21,
     "metadata": {},
     "output_type": "execute_result"
    }
   ],
   "source": [
    "op[0][0]"
   ]
  },
  {
   "cell_type": "code",
   "execution_count": 22,
   "id": "2a76edb4-7b5d-4e00-9c81-9bfc87156153",
   "metadata": {},
   "outputs": [
    {
     "data": {
      "text/plain": [
       "MapPartitionsRDD[23] at mapPartitions at PythonRDD.scala:145"
      ]
     },
     "execution_count": 22,
     "metadata": {},
     "output_type": "execute_result"
    }
   ],
   "source": [
    "opx = file.groupBy(lambda x : x[0]).mapValues(list).partitionBy(5,lambda x : partfun(x))\n",
    "opx"
   ]
  },
  {
   "cell_type": "code",
   "execution_count": 23,
   "id": "c4f76d29-ee57-492e-bbae-97cde678f19a",
   "metadata": {},
   "outputs": [
    {
     "name": "stdout",
     "output_type": "stream",
     "text": [
      "Number of partitions 5 :  \n",
      "\n",
      "Partitioner <pyspark.rdd.Partitioner object at 0x00000265337853D0> :  \n",
      "\n",
      "Partitions structure [[('L', ['L22-2100 DB D', 'L21-1705 OS A', 'L22-2101 DB D', 'L21-1601 SE F', 'L21-1702 SE B', 'L01-2002 DB D', 'L09-7245 DB D'])], [('I', ['I21-1601 OS F', 'I95-1223 OS F', 'I15-1245 OS F'])], [('K', ['K21-1601 SE F', 'K21-1702 DS B', 'K18-1891 SE F', 'K10-1983 SE F'])], [('P', ['P10-1991 SE F', 'P21-7252 DB D', 'P12-2425 OS F'])], [('F', ['F19-1111 OS F', 'F17-1963 SE D', 'F11-1235 OS F'])]] :  \n",
      "\n"
     ]
    }
   ],
   "source": [
    "## Partition based on Campuses\n",
    "\n",
    "print('Number of partitions {} : '.format(opx.getNumPartitions()),'\\n')\n",
    "print('Partitioner {} : '.format(opx.partitioner),'\\n')\n",
    "print('Partitions structure {} : '.format(opx.glom().collect()),'\\n')"
   ]
  },
  {
   "cell_type": "markdown",
   "id": "1d03e68d-9ef6-43d7-ade8-49dc9d9b5bba",
   "metadata": {},
   "source": [
    "<br>\n",
    "\n",
    "#### v. For each course, print the number of failures on each Campus. "
   ]
  },
  {
   "cell_type": "code",
   "execution_count": 24,
   "id": "7471470d-2395-417e-bdff-a17223d04840",
   "metadata": {},
   "outputs": [],
   "source": [
    "opv = file.filter(lambda x: x[-1]=='F')"
   ]
  },
  {
   "cell_type": "code",
   "execution_count": 25,
   "id": "dac8cdd9-9ccd-45c3-83da-724de87d435c",
   "metadata": {},
   "outputs": [
    {
     "data": {
      "text/plain": [
       "['K21-1601 SE F',\n",
       " 'I21-1601 OS F',\n",
       " 'L21-1601 SE F',\n",
       " 'K18-1891 SE F',\n",
       " 'I95-1223 OS F',\n",
       " 'K10-1983 SE F',\n",
       " 'I15-1245 OS F',\n",
       " 'P10-1991 SE F',\n",
       " 'F19-1111 OS F',\n",
       " 'P12-2425 OS F',\n",
       " 'F11-1235 OS F']"
      ]
     },
     "execution_count": 25,
     "metadata": {},
     "output_type": "execute_result"
    }
   ],
   "source": [
    "### Total Record of the failure students \n",
    "\n",
    "opv.collect()"
   ]
  },
  {
   "cell_type": "code",
   "execution_count": 26,
   "id": "86484bea-3a5d-41d8-a69c-29620a322b0c",
   "metadata": {},
   "outputs": [],
   "source": [
    "opv2 = opv.groupBy(lambda x : x[0]).mapValues(list).collect()"
   ]
  },
  {
   "cell_type": "code",
   "execution_count": 27,
   "id": "24a33b26-2526-4706-baa9-6b227871200b",
   "metadata": {},
   "outputs": [
    {
     "data": {
      "text/plain": [
       "[('K', ['K21-1601 SE F', 'K18-1891 SE F', 'K10-1983 SE F']),\n",
       " ('L', ['L21-1601 SE F']),\n",
       " ('I', ['I21-1601 OS F', 'I95-1223 OS F', 'I15-1245 OS F']),\n",
       " ('P', ['P10-1991 SE F', 'P12-2425 OS F']),\n",
       " ('F', ['F19-1111 OS F', 'F11-1235 OS F'])]"
      ]
     },
     "execution_count": 27,
     "metadata": {},
     "output_type": "execute_result"
    }
   ],
   "source": [
    "opv2"
   ]
  },
  {
   "cell_type": "code",
   "execution_count": 28,
   "id": "b26bab35-e041-4cfa-bf21-ac83189eb274",
   "metadata": {},
   "outputs": [
    {
     "name": "stdout",
     "output_type": "stream",
     "text": [
      "\n",
      "\n",
      "Students in Karachi campus are ['K21-1601 SE F', 'K18-1891 SE F', 'K10-1983 SE F'] \n",
      "Students in Lahore campus are ['L21-1601 SE F'] \n",
      "Students in Islamabad campus are ['I21-1601 OS F', 'I95-1223 OS F', 'I15-1245 OS F'] \n",
      "Students in Peshaware campus are ['P10-1991 SE F', 'P12-2425 OS F'] \n",
      "Students in Faisalabad campus are ['F19-1111 OS F', 'F11-1235 OS F'] \n",
      "\n",
      "\n"
     ]
    }
   ],
   "source": [
    "print('\\n')\n",
    "\n",
    "for x,y in opv2:\n",
    "    if (x=='L'): print('Students in {} campus are {} '.format('Lahore',y))\n",
    "    if (x=='I'): print('Students in {} campus are {} '.format('Islamabad',y))\n",
    "    if (x=='K'): print('Students in {} campus are {} '.format('Karachi',y))\n",
    "    if (x=='P'): print('Students in {} campus are {} '.format('Peshaware',y))\n",
    "    if (x=='F'): print('Students in {} campus are {} '.format('Faisalabad',y))\n",
    "print('\\n')\n"
   ]
  },
  {
   "cell_type": "markdown",
   "id": "cbc4611a-654b-40b9-aa08-e4a462a59ff7",
   "metadata": {},
   "source": [
    "<br>\n",
    "<h4> vi. Remove all the duplicate rows from input data. </h4>\n"
   ]
  },
  {
   "cell_type": "code",
   "execution_count": 29,
   "id": "fdc4d02a-9e85-4182-bb33-4c2bd41f49bc",
   "metadata": {},
   "outputs": [
    {
     "data": {
      "text/plain": [
       "['L22-2100 DB D',\n",
       " 'K21-1601 SE F',\n",
       " 'I21-1601 OS F',\n",
       " 'K21-1702 DS B',\n",
       " 'L21-1705 OS A',\n",
       " 'L22-2101 DB D',\n",
       " 'K21-1601 OS F',\n",
       " 'L21-1601 SE F',\n",
       " 'L21-1702 SE B',\n",
       " 'L21-1705 DB A',\n",
       " 'L01-2002 DB D',\n",
       " 'K18-1891 SE F',\n",
       " 'I95-1223 OS F',\n",
       " 'L09-7245 DB D',\n",
       " 'K10-1983 SE F',\n",
       " 'I15-1245 OS F',\n",
       " '#added duplictae below for part vi',\n",
       " 'L22-2100 DB D',\n",
       " 'K21-1601 SE F',\n",
       " 'I21-1601 OS F',\n",
       " 'K21-1702 DS B']"
      ]
     },
     "execution_count": 29,
     "metadata": {},
     "output_type": "execute_result"
    }
   ],
   "source": [
    "## Shows file including the duplicates\n",
    "\n",
    "doc =sc.textFile('FAST-Copy.txt')\n",
    "doc.take(50)\n"
   ]
  },
  {
   "cell_type": "code",
   "execution_count": 30,
   "id": "e1ee265b-6bb4-47d3-9fd8-2ad3a619adae",
   "metadata": {},
   "outputs": [
    {
     "name": "stdout",
     "output_type": "stream",
     "text": [
      "Total size  21\n"
     ]
    }
   ],
   "source": [
    "print('Total size ',len(doc.take(30)))\n"
   ]
  },
  {
   "cell_type": "code",
   "execution_count": 31,
   "id": "765b3a5f-6da3-47d4-8650-169de93aefbd",
   "metadata": {},
   "outputs": [],
   "source": [
    "## Removing duplicates\n",
    "\n",
    "opvi = doc.filter(lambda x: x != '#added duplictae below for part vi').distinct().collect()\n",
    "\n",
    "## Applied filter here coz with just the .distinct() it was just removing the duplicates but showing the string as well"
   ]
  },
  {
   "cell_type": "code",
   "execution_count": 32,
   "id": "e58d68fb-c80e-4d14-b4f0-982696b7c479",
   "metadata": {},
   "outputs": [
    {
     "data": {
      "text/plain": [
       "['K21-1601 SE F',\n",
       " 'K21-1702 DS B',\n",
       " 'L22-2101 DB D',\n",
       " 'L21-1601 SE F',\n",
       " 'L21-1702 SE B',\n",
       " 'L21-1705 DB A',\n",
       " 'L01-2002 DB D',\n",
       " 'L09-7245 DB D',\n",
       " 'K10-1983 SE F',\n",
       " 'L22-2100 DB D',\n",
       " 'I21-1601 OS F',\n",
       " 'L21-1705 OS A',\n",
       " 'K21-1601 OS F',\n",
       " 'K18-1891 SE F',\n",
       " 'I95-1223 OS F',\n",
       " 'I15-1245 OS F']"
      ]
     },
     "execution_count": 32,
     "metadata": {},
     "output_type": "execute_result"
    }
   ],
   "source": [
    "opvi"
   ]
  },
  {
   "cell_type": "code",
   "execution_count": 33,
   "id": "2cdd0807-03af-4355-8c42-4bfce3b2e2ea",
   "metadata": {},
   "outputs": [
    {
     "name": "stdout",
     "output_type": "stream",
     "text": [
      "After removing duplicates, size of file is 16\n"
     ]
    }
   ],
   "source": [
    "print('After removing duplicates, size of file is',len(opvi))"
   ]
  },
  {
   "cell_type": "markdown",
   "id": "53ad9b57-80a2-4a31-9e1d-f37c52d3def7",
   "metadata": {},
   "source": [
    "<br>\n",
    "\n",
    "#### vii. Find the minimum and maximum grades in each subject. The ordering of grades is as follows A >B >C >D >F "
   ]
  },
  {
   "cell_type": "code",
   "execution_count": 34,
   "id": "05e4929d-b365-4a21-a82a-95b367b00475",
   "metadata": {},
   "outputs": [],
   "source": [
    "opvii = file.groupBy(lambda x : x[-4:]).mapValues(list)"
   ]
  },
  {
   "cell_type": "code",
   "execution_count": 35,
   "id": "4e808384-035a-4082-97c6-82191b1acb65",
   "metadata": {},
   "outputs": [
    {
     "data": {
      "text/plain": [
       "[('DB D',\n",
       "  ['L22-2100 DB D',\n",
       "   'L22-2101 DB D',\n",
       "   'L01-2002 DB D',\n",
       "   'L09-7245 DB D',\n",
       "   'P21-7252 DB D']),\n",
       " ('SE F',\n",
       "  ['K21-1601 SE F',\n",
       "   'L21-1601 SE F',\n",
       "   'K18-1891 SE F',\n",
       "   'K10-1983 SE F',\n",
       "   'P10-1991 SE F']),\n",
       " ('OS A', ['L21-1705 OS A']),\n",
       " ('SE B', ['L21-1702 SE B']),\n",
       " ('OS F',\n",
       "  ['I21-1601 OS F',\n",
       "   'I95-1223 OS F',\n",
       "   'I15-1245 OS F',\n",
       "   'F19-1111 OS F',\n",
       "   'P12-2425 OS F',\n",
       "   'F11-1235 OS F']),\n",
       " ('DS B', ['K21-1702 DS B']),\n",
       " ('SE D', ['F17-1963 SE D'])]"
      ]
     },
     "execution_count": 35,
     "metadata": {},
     "output_type": "execute_result"
    }
   ],
   "source": [
    "opvii.collect()"
   ]
  },
  {
   "cell_type": "code",
   "execution_count": 36,
   "id": "84c5eb70-0f3a-4da9-b8f7-6162c8ef9cb6",
   "metadata": {},
   "outputs": [],
   "source": [
    "sub_grade = opvii.keys().sortBy(lambda x: x[-1]).map(lambda x : x.split(' ')).groupByKey().mapValues(list).collect()"
   ]
  },
  {
   "cell_type": "code",
   "execution_count": 37,
   "id": "12bd731b-ae1d-49c1-a5fe-9251848abe35",
   "metadata": {},
   "outputs": [
    {
     "data": {
      "text/plain": [
       "[('OS', ['A', 'F']), ('DB', ['D']), ('SE', ['B', 'D', 'F']), ('DS', ['B'])]"
      ]
     },
     "execution_count": 37,
     "metadata": {},
     "output_type": "execute_result"
    }
   ],
   "source": [
    "### Final answer will be\n",
    "\n",
    "sub_grade"
   ]
  },
  {
   "cell_type": "markdown",
   "id": "fe456f95-e15f-4af7-a354-5777fc0ee295",
   "metadata": {},
   "source": [
    "<br>\n",
    "\n",
    "#### viii. We wish to sort the file based on the roll number (hint work with sortByKey ). The two roll-numbers are compared using the following rule\n",
    "<br>\n",
    "\n",
    "#####    a. For Campus use lexicographic ordering that is F < I < k <L< P\n"
   ]
  },
  {
   "cell_type": "code",
   "execution_count": 38,
   "id": "1675abc7-b612-4dac-ac4d-2bb2c91deeb5",
   "metadata": {},
   "outputs": [],
   "source": [
    "opviii = file.groupBy(lambda x: x[0]).mapValues(list)"
   ]
  },
  {
   "cell_type": "code",
   "execution_count": 39,
   "id": "9c8d5ece-8716-4b12-ac62-bc5e7b39d9da",
   "metadata": {},
   "outputs": [],
   "source": [
    "opviiia = opviii.sortByKey().flatMap(lambda x: x[1])"
   ]
  },
  {
   "cell_type": "code",
   "execution_count": 40,
   "id": "9138c481-d8fa-4c83-9430-ac5fd205ad6c",
   "metadata": {},
   "outputs": [
    {
     "data": {
      "text/plain": [
       "['F19-1111 OS F',\n",
       " 'F17-1963 SE D',\n",
       " 'F11-1235 OS F',\n",
       " 'I21-1601 OS F',\n",
       " 'I95-1223 OS F',\n",
       " 'I15-1245 OS F',\n",
       " 'K21-1601 SE F',\n",
       " 'K21-1702 DS B',\n",
       " 'K18-1891 SE F',\n",
       " 'K10-1983 SE F',\n",
       " 'L22-2100 DB D',\n",
       " 'L21-1705 OS A',\n",
       " 'L22-2101 DB D',\n",
       " 'L21-1601 SE F',\n",
       " 'L21-1702 SE B',\n",
       " 'L01-2002 DB D',\n",
       " 'L09-7245 DB D',\n",
       " 'P10-1991 SE F',\n",
       " 'P21-7252 DB D',\n",
       " 'P12-2425 OS F']"
      ]
     },
     "execution_count": 40,
     "metadata": {},
     "output_type": "execute_result"
    }
   ],
   "source": [
    "### a. For rollno based sorting Campus lexicographic ordering that is F < I < k <L< P is given below\n",
    "\n",
    "opviiia.collect()"
   ]
  },
  {
   "cell_type": "markdown",
   "id": "27fe4a92-819c-4946-b3ef-d3c234a415b2",
   "metadata": {},
   "source": [
    "<br>\n",
    "\n",
    "#####    b. For year follow the rule of year 16<17 and 99 < 01\n"
   ]
  },
  {
   "cell_type": "code",
   "execution_count": 41,
   "id": "95d01f84-1642-4757-923a-b1147862ef32",
   "metadata": {},
   "outputs": [],
   "source": [
    "\n",
    "## For this part sorting based on student year has been followed\n",
    "\n",
    "opviii = file.groupBy(lambda x: x[1:3]).mapValues(list)"
   ]
  },
  {
   "cell_type": "code",
   "execution_count": 42,
   "id": "e0d54d0b-5466-47bd-b819-71c684603227",
   "metadata": {},
   "outputs": [],
   "source": [
    "opviiib = opviii.sortByKey().flatMap(lambda x: x[1])"
   ]
  },
  {
   "cell_type": "code",
   "execution_count": 43,
   "id": "6e6c3770-9368-4b70-bab4-f93bd3653c03",
   "metadata": {},
   "outputs": [
    {
     "data": {
      "text/plain": [
       "['L01-2002 DB D',\n",
       " 'L09-7245 DB D',\n",
       " 'K10-1983 SE F',\n",
       " 'P10-1991 SE F',\n",
       " 'F11-1235 OS F',\n",
       " 'P12-2425 OS F',\n",
       " 'I15-1245 OS F',\n",
       " 'F17-1963 SE D',\n",
       " 'K18-1891 SE F',\n",
       " 'F19-1111 OS F',\n",
       " 'K21-1601 SE F',\n",
       " 'I21-1601 OS F',\n",
       " 'K21-1702 DS B',\n",
       " 'L21-1705 OS A',\n",
       " 'L21-1601 SE F',\n",
       " 'L21-1702 SE B',\n",
       " 'P21-7252 DB D',\n",
       " 'L22-2100 DB D',\n",
       " 'L22-2101 DB D',\n",
       " 'I95-1223 OS F']"
      ]
     },
     "execution_count": 43,
     "metadata": {},
     "output_type": "execute_result"
    }
   ],
   "source": [
    "opviiib.collect()"
   ]
  },
  {
   "cell_type": "markdown",
   "id": "ba9f0be7-dea3-4329-bc1b-4c4eacce0738",
   "metadata": {},
   "source": [
    "<br>\n",
    "\n",
    "#####    c. For the last part of roll-number, follow int ordering."
   ]
  },
  {
   "cell_type": "code",
   "execution_count": 44,
   "id": "2e8441bc-827f-4c35-b067-48f929009990",
   "metadata": {},
   "outputs": [],
   "source": [
    "\n",
    "## For this part, sorting is based on last four digits of student Roll# has been followed\n",
    "\n",
    "opviii = file.groupBy(lambda x: x[4:8]).mapValues(list)"
   ]
  },
  {
   "cell_type": "code",
   "execution_count": 45,
   "id": "2307f356-3db8-4c6c-bd93-dcfe41a7cc21",
   "metadata": {},
   "outputs": [],
   "source": [
    "opviiic = opviii.sortByKey().flatMap(lambda x: x[1])"
   ]
  },
  {
   "cell_type": "code",
   "execution_count": 46,
   "id": "6d6e40e7-decf-4700-8778-86050484617b",
   "metadata": {},
   "outputs": [
    {
     "data": {
      "text/plain": [
       "['F19-1111 OS F',\n",
       " 'I95-1223 OS F',\n",
       " 'F11-1235 OS F',\n",
       " 'I15-1245 OS F',\n",
       " 'K21-1601 SE F',\n",
       " 'I21-1601 OS F',\n",
       " 'L21-1601 SE F',\n",
       " 'K21-1702 DS B',\n",
       " 'L21-1702 SE B',\n",
       " 'L21-1705 OS A',\n",
       " 'K18-1891 SE F',\n",
       " 'F17-1963 SE D',\n",
       " 'K10-1983 SE F',\n",
       " 'P10-1991 SE F',\n",
       " 'L01-2002 DB D',\n",
       " 'L22-2100 DB D',\n",
       " 'L22-2101 DB D',\n",
       " 'P12-2425 OS F',\n",
       " 'L09-7245 DB D',\n",
       " 'P21-7252 DB D']"
      ]
     },
     "execution_count": 46,
     "metadata": {},
     "output_type": "execute_result"
    }
   ],
   "source": [
    "opviiic.collect()"
   ]
  },
  {
   "cell_type": "markdown",
   "id": "bc6c0d10-449d-41bc-9abf-36a6233df61b",
   "metadata": {},
   "source": [
    "<br>\n",
    "\n",
    "#### ix. For each student, compute the GPA. Assume only five grades (Grade A GPA=4, Grade B GPA=3, Grade C GPA 2, Grade D GPA 1, and Grade F GPA=0)"
   ]
  },
  {
   "cell_type": "code",
   "execution_count": 47,
   "id": "f77c5790-c23d-467e-b2ba-afb793aab99f",
   "metadata": {},
   "outputs": [],
   "source": [
    "\n",
    "opix = file.groupBy(lambda x: x[0:8]).distinct().mapValues(list)"
   ]
  },
  {
   "cell_type": "code",
   "execution_count": 48,
   "id": "060fef75-55bb-4bfc-96e6-c217dacaab30",
   "metadata": {},
   "outputs": [],
   "source": [
    "opix1 = opix.mapValues(lambda x : x[0][-1])"
   ]
  },
  {
   "cell_type": "code",
   "execution_count": 49,
   "id": "7a1ddc39-0050-4d9e-b4bc-e18e65cab773",
   "metadata": {},
   "outputs": [
    {
     "data": {
      "text/plain": [
       "[('L09-7245', 'D'),\n",
       " ('I15-1245', 'F'),\n",
       " ('P10-1991', 'F'),\n",
       " ('F19-1111', 'F'),\n",
       " ('L22-2100', 'D'),\n",
       " ('I21-1601', 'F'),\n",
       " ('K21-1702', 'B'),\n",
       " ('L21-1705', 'A'),\n",
       " ('P21-7252', 'D'),\n",
       " ('P12-2425', 'F'),\n",
       " ('F11-1235', 'F'),\n",
       " ('K21-1601', 'F'),\n",
       " ('L21-1702', 'B'),\n",
       " ('L01-2002', 'D'),\n",
       " ('I95-1223', 'F'),\n",
       " ('F17-1963', 'D'),\n",
       " ('L22-2101', 'D'),\n",
       " ('L21-1601', 'F'),\n",
       " ('K18-1891', 'F'),\n",
       " ('K10-1983', 'F')]"
      ]
     },
     "execution_count": 49,
     "metadata": {},
     "output_type": "execute_result"
    }
   ],
   "source": [
    "gpa = opix1.collect()\n",
    "gpa"
   ]
  },
  {
   "cell_type": "code",
   "execution_count": 50,
   "id": "6b0c3401-4232-452d-9e1d-f53fc216a891",
   "metadata": {},
   "outputs": [
    {
     "name": "stdout",
     "output_type": "stream",
     "text": [
      "GPA of student L09-7245 is 1.0 \n",
      "GPA of student I15-1245 is 0.0 \n",
      "GPA of student P10-1991 is 0.0 \n",
      "GPA of student F19-1111 is 0.0 \n",
      "GPA of student L22-2100 is 1.0 \n",
      "GPA of student I21-1601 is 0.0 \n",
      "GPA of student K21-1702 is 3.0 \n",
      "GPA of student L21-1705 is 4.0 \n",
      "GPA of student P21-7252 is 1.0 \n",
      "GPA of student P12-2425 is 0.0 \n",
      "GPA of student F11-1235 is 0.0 \n",
      "GPA of student K21-1601 is 0.0 \n",
      "GPA of student L21-1702 is 3.0 \n",
      "GPA of student L01-2002 is 1.0 \n",
      "GPA of student I95-1223 is 0.0 \n",
      "GPA of student F17-1963 is 1.0 \n",
      "GPA of student L22-2101 is 1.0 \n",
      "GPA of student L21-1601 is 0.0 \n",
      "GPA of student K18-1891 is 0.0 \n",
      "GPA of student K10-1983 is 0.0 \n"
     ]
    }
   ],
   "source": [
    "for x,y in gpa:\n",
    "    if (y=='A'):\n",
    "        print('GPA of student {} is {} '.format(x,4.0))\n",
    "    if (y=='B'):\n",
    "        print('GPA of student {} is {} '.format(x,3.0))\n",
    "    if (y=='C'):\n",
    "        print('GPA of student {} is {} '.format(x,2.0))\n",
    "    if (y=='D'):\n",
    "        print('GPA of student {} is {} '.format(x,1.0))\n",
    "    if (y=='F'):\n",
    "        print('GPA of student {} is {} '.format(x,0.0))\n",
    "        \n",
    "        "
   ]
  },
  {
   "cell_type": "markdown",
   "id": "1d22e147-87a2-4e8e-8955-6fbceedee9b6",
   "metadata": {},
   "source": [
    "#### x. Convert grades to GPA as mentioned in part viii and find the average GPA of each Subject"
   ]
  },
  {
   "cell_type": "code",
   "execution_count": 51,
   "id": "d2890420-5b1c-475a-bdb4-7a6a92924a7e",
   "metadata": {},
   "outputs": [
    {
     "data": {
      "text/plain": [
       "[('DB', ['D', 'D', 'D', 'D', 'D']),\n",
       " ('OS', ['A', 'F', 'F', 'F', 'F', 'F', 'F']),\n",
       " ('DS', ['B']),\n",
       " ('SE', ['B', 'D', 'F', 'F', 'F', 'F', 'F'])]"
      ]
     },
     "execution_count": 51,
     "metadata": {},
     "output_type": "execute_result"
    }
   ],
   "source": [
    "### THis will generate the grades per subject so further we will use these grade to calculate the subject averages\n",
    "\n",
    "opx = file.sortBy(lambda x : x[-4:]).map(lambda x : x[-4:]).map(lambda x: x.split(' ')).groupByKey().mapValues(list)\n",
    "opx.collect()"
   ]
  },
  {
   "cell_type": "code",
   "execution_count": 52,
   "id": "bd402531-a2d7-4e68-bc2c-fecce4057eb7",
   "metadata": {},
   "outputs": [],
   "source": [
    "\n",
    "### utility function to convert the GPA of a subject\n",
    "\n",
    "avg_list = list()\n",
    "def avg_cal(data):\n",
    "    for y in data:\n",
    "        if (y=='A'):\n",
    "            avg_list.append(4)\n",
    "        if (y=='B'):\n",
    "            avg_list.append(3)\n",
    "        if (y=='C'):\n",
    "            avg_list.append(2)\n",
    "        if (y=='D'):\n",
    "            avg_list.append(1)\n",
    "        if (y=='F'):\n",
    "            avg_list.append(0)\n",
    "    size = len(avg_list)\n",
    "    lsum = sum(avg_list)\n",
    "    avg = lsum/size\n",
    "    return avg\n",
    "\n",
    "def avg():\n",
    "    for i in range(0,len(opx1)):\n",
    "        print('AVERAGE GPA OF {} is {} '.format(opx1[i][0],avg_cal(opx1[i][1])))"
   ]
  },
  {
   "cell_type": "code",
   "execution_count": 53,
   "id": "c0ae06db-9704-437f-83ba-3a0e4a4e5b41",
   "metadata": {},
   "outputs": [
    {
     "name": "stdout",
     "output_type": "stream",
     "text": [
      "AVERAGE GPA OF DB is 1.0 \n",
      "AVERAGE GPA OF OS is 0.75 \n",
      "AVERAGE GPA OF DS is 0.9230769230769231 \n",
      "AVERAGE GPA OF SE is 0.8 \n"
     ]
    }
   ],
   "source": [
    "opx1 = opx.collect()\n",
    "opx2 = opx.map(avg())\n",
    "\n"
   ]
  },
  {
   "cell_type": "code",
   "execution_count": null,
   "id": "2d328553-1ca0-4a83-b5ea-c9d9a2bfb8c1",
   "metadata": {},
   "outputs": [],
   "source": []
  }
 ],
 "metadata": {
  "kernelspec": {
   "display_name": "Python 3 (ipykernel)",
   "language": "python",
   "name": "python3"
  },
  "language_info": {
   "codemirror_mode": {
    "name": "ipython",
    "version": 3
   },
   "file_extension": ".py",
   "mimetype": "text/x-python",
   "name": "python",
   "nbconvert_exporter": "python",
   "pygments_lexer": "ipython3",
   "version": "3.9.7"
  },
  "toc-autonumbering": false
 },
 "nbformat": 4,
 "nbformat_minor": 5
}
